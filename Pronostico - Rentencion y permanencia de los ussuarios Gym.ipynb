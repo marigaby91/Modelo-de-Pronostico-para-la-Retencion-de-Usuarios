{
 "cells": [
  {
   "cell_type": "markdown",
   "metadata": {
    "toc": true
   },
   "source": [
    "<h1>Table of Contents<span class=\"tocSkip\"></span></h1>\n",
    "<div class=\"toc\"><ul class=\"toc-item\"><li><span><a href=\"#Introducion\" data-toc-modified-id=\"Introducion-1\"><span class=\"toc-item-num\">1&nbsp;&nbsp;</span>Introducion</a></span></li><li><span><a href=\"#Analis-de-datos\" data-toc-modified-id=\"Analis-de-datos-2\"><span class=\"toc-item-num\">2&nbsp;&nbsp;</span>Analis de datos</a></span><ul class=\"toc-item\"><li><span><a href=\"#Carga-de-datasets-e-importacion-de-librerias\" data-toc-modified-id=\"Carga-de-datasets-e-importacion-de-librerias-2.1\"><span class=\"toc-item-num\">2.1&nbsp;&nbsp;</span>Carga de datasets e importacion de librerias</a></span></li><li><span><a href=\"#Estudio-de-datos\" data-toc-modified-id=\"Estudio-de-datos-2.2\"><span class=\"toc-item-num\">2.2&nbsp;&nbsp;</span>Estudio de datos</a></span></li></ul></li><li><span><a href=\"#Construir-un-modelo-para-predecir-la-cancelación-de-usuarios\" data-toc-modified-id=\"Construir-un-modelo-para-predecir-la-cancelación-de-usuarios-3\"><span class=\"toc-item-num\">3&nbsp;&nbsp;</span>Construir un modelo para predecir la cancelación de usuarios</a></span><ul class=\"toc-item\"><li><span><a href=\"#Modelo-regresión-logística\" data-toc-modified-id=\"Modelo-regresión-logística-3.1\"><span class=\"toc-item-num\">3.1&nbsp;&nbsp;</span>Modelo regresión logística</a></span></li><li><span><a href=\"#Modelo-bosque-aleatorio.\" data-toc-modified-id=\"Modelo-bosque-aleatorio.-3.2\"><span class=\"toc-item-num\">3.2&nbsp;&nbsp;</span>Modelo bosque aleatorio.</a></span></li></ul></li><li><span><a href=\"#Crear-clústeres-de-usuarios/as\" data-toc-modified-id=\"Crear-clústeres-de-usuarios/as-4\"><span class=\"toc-item-num\">4&nbsp;&nbsp;</span>Crear clústeres de usuarios/as</a></span><ul class=\"toc-item\"><li><span><a href=\"#Estandariza-los-datos.\" data-toc-modified-id=\"Estandariza-los-datos.-4.1\"><span class=\"toc-item-num\">4.1&nbsp;&nbsp;</span>Estandariza los datos.</a></span></li><li><span><a href=\"#Dendrograma\" data-toc-modified-id=\"Dendrograma-4.2\"><span class=\"toc-item-num\">4.2&nbsp;&nbsp;</span>Dendrograma</a></span></li><li><span><a href=\"#Algortimo-K-means\" data-toc-modified-id=\"Algortimo-K-means-4.3\"><span class=\"toc-item-num\">4.3&nbsp;&nbsp;</span>Algortimo K-means</a></span></li><li><span><a href=\"#Valores-medios-de-característica-para-los-clústeres\" data-toc-modified-id=\"Valores-medios-de-característica-para-los-clústeres-4.4\"><span class=\"toc-item-num\">4.4&nbsp;&nbsp;</span>Valores medios de característica para los clústeres</a></span></li><li><span><a href=\"#Distribuciones-de-características-para-los-clústeres\" data-toc-modified-id=\"Distribuciones-de-características-para-los-clústeres-4.5\"><span class=\"toc-item-num\">4.5&nbsp;&nbsp;</span>Distribuciones de características para los clústeres</a></span></li><li><span><a href=\"#Tasa-de-cancelación-para-cada-clúster\" data-toc-modified-id=\"Tasa-de-cancelación-para-cada-clúster-4.6\"><span class=\"toc-item-num\">4.6&nbsp;&nbsp;</span>Tasa de cancelación para cada clúster</a></span></li></ul></li><li><span><a href=\"#Conclusiones\" data-toc-modified-id=\"Conclusiones-5\"><span class=\"toc-item-num\">5&nbsp;&nbsp;</span>Conclusiones</a></span></li></ul></div>"
   ]
  },
  {
   "cell_type": "markdown",
   "metadata": {},
   "source": [
    "# Introducion"
   ]
  },
  {
   "cell_type": "markdown",
   "metadata": {},
   "source": [
    "El presente proyecto se realiza con el objectivo de pronosticar la rentencion y permanencia de los ussuario en la cadena de gimnasios Model Fitness"
   ]
  },
  {
   "cell_type": "markdown",
   "metadata": {},
   "source": [
    "# Analis de datos"
   ]
  },
  {
   "cell_type": "markdown",
   "metadata": {},
   "source": [
    "## Carga de datasets e importacion de librerias"
   ]
  },
  {
   "cell_type": "code",
   "execution_count": 1,
   "metadata": {},
   "outputs": [],
   "source": [
    "import pandas as pd\n",
    "import numpy as np\n",
    "from scipy import stats as st\n",
    "from matplotlib import pyplot as plt\n",
    "import plotly.express as px\n",
    "import seaborn as sns\n",
    "import datetime\n",
    "from scipy.stats import ttest_ind\n",
    "from statsmodels.stats.proportion import proportions_ztest"
   ]
  },
  {
   "cell_type": "code",
   "execution_count": 2,
   "metadata": {},
   "outputs": [],
   "source": [
    "gym_data= pd.read_csv('/datasets/gym_churn_us.csv')"
   ]
  },
  {
   "cell_type": "code",
   "execution_count": 3,
   "metadata": {},
   "outputs": [
    {
     "data": {
      "text/html": [
       "<div>\n",
       "<style scoped>\n",
       "    .dataframe tbody tr th:only-of-type {\n",
       "        vertical-align: middle;\n",
       "    }\n",
       "\n",
       "    .dataframe tbody tr th {\n",
       "        vertical-align: top;\n",
       "    }\n",
       "\n",
       "    .dataframe thead th {\n",
       "        text-align: right;\n",
       "    }\n",
       "</style>\n",
       "<table border=\"1\" class=\"dataframe\">\n",
       "  <thead>\n",
       "    <tr style=\"text-align: right;\">\n",
       "      <th></th>\n",
       "      <th>gender</th>\n",
       "      <th>Near_Location</th>\n",
       "      <th>Partner</th>\n",
       "      <th>Promo_friends</th>\n",
       "      <th>Phone</th>\n",
       "      <th>Contract_period</th>\n",
       "      <th>Group_visits</th>\n",
       "      <th>Age</th>\n",
       "      <th>Avg_additional_charges_total</th>\n",
       "      <th>Month_to_end_contract</th>\n",
       "      <th>Lifetime</th>\n",
       "      <th>Avg_class_frequency_total</th>\n",
       "      <th>Avg_class_frequency_current_month</th>\n",
       "      <th>Churn</th>\n",
       "    </tr>\n",
       "  </thead>\n",
       "  <tbody>\n",
       "    <tr>\n",
       "      <th>0</th>\n",
       "      <td>1</td>\n",
       "      <td>1</td>\n",
       "      <td>1</td>\n",
       "      <td>1</td>\n",
       "      <td>0</td>\n",
       "      <td>6</td>\n",
       "      <td>1</td>\n",
       "      <td>29</td>\n",
       "      <td>14.227470</td>\n",
       "      <td>5.0</td>\n",
       "      <td>3</td>\n",
       "      <td>0.020398</td>\n",
       "      <td>0.000000</td>\n",
       "      <td>0</td>\n",
       "    </tr>\n",
       "    <tr>\n",
       "      <th>1</th>\n",
       "      <td>0</td>\n",
       "      <td>1</td>\n",
       "      <td>0</td>\n",
       "      <td>0</td>\n",
       "      <td>1</td>\n",
       "      <td>12</td>\n",
       "      <td>1</td>\n",
       "      <td>31</td>\n",
       "      <td>113.202938</td>\n",
       "      <td>12.0</td>\n",
       "      <td>7</td>\n",
       "      <td>1.922936</td>\n",
       "      <td>1.910244</td>\n",
       "      <td>0</td>\n",
       "    </tr>\n",
       "    <tr>\n",
       "      <th>2</th>\n",
       "      <td>0</td>\n",
       "      <td>1</td>\n",
       "      <td>1</td>\n",
       "      <td>0</td>\n",
       "      <td>1</td>\n",
       "      <td>1</td>\n",
       "      <td>0</td>\n",
       "      <td>28</td>\n",
       "      <td>129.448479</td>\n",
       "      <td>1.0</td>\n",
       "      <td>2</td>\n",
       "      <td>1.859098</td>\n",
       "      <td>1.736502</td>\n",
       "      <td>0</td>\n",
       "    </tr>\n",
       "    <tr>\n",
       "      <th>3</th>\n",
       "      <td>0</td>\n",
       "      <td>1</td>\n",
       "      <td>1</td>\n",
       "      <td>1</td>\n",
       "      <td>1</td>\n",
       "      <td>12</td>\n",
       "      <td>1</td>\n",
       "      <td>33</td>\n",
       "      <td>62.669863</td>\n",
       "      <td>12.0</td>\n",
       "      <td>2</td>\n",
       "      <td>3.205633</td>\n",
       "      <td>3.357215</td>\n",
       "      <td>0</td>\n",
       "    </tr>\n",
       "    <tr>\n",
       "      <th>4</th>\n",
       "      <td>1</td>\n",
       "      <td>1</td>\n",
       "      <td>1</td>\n",
       "      <td>1</td>\n",
       "      <td>1</td>\n",
       "      <td>1</td>\n",
       "      <td>0</td>\n",
       "      <td>26</td>\n",
       "      <td>198.362265</td>\n",
       "      <td>1.0</td>\n",
       "      <td>3</td>\n",
       "      <td>1.113884</td>\n",
       "      <td>1.120078</td>\n",
       "      <td>0</td>\n",
       "    </tr>\n",
       "  </tbody>\n",
       "</table>\n",
       "</div>"
      ],
      "text/plain": [
       "   gender  Near_Location  Partner  Promo_friends  Phone  Contract_period  \\\n",
       "0       1              1        1              1      0                6   \n",
       "1       0              1        0              0      1               12   \n",
       "2       0              1        1              0      1                1   \n",
       "3       0              1        1              1      1               12   \n",
       "4       1              1        1              1      1                1   \n",
       "\n",
       "   Group_visits  Age  Avg_additional_charges_total  Month_to_end_contract  \\\n",
       "0             1   29                     14.227470                    5.0   \n",
       "1             1   31                    113.202938                   12.0   \n",
       "2             0   28                    129.448479                    1.0   \n",
       "3             1   33                     62.669863                   12.0   \n",
       "4             0   26                    198.362265                    1.0   \n",
       "\n",
       "   Lifetime  Avg_class_frequency_total  Avg_class_frequency_current_month  \\\n",
       "0         3                   0.020398                           0.000000   \n",
       "1         7                   1.922936                           1.910244   \n",
       "2         2                   1.859098                           1.736502   \n",
       "3         2                   3.205633                           3.357215   \n",
       "4         3                   1.113884                           1.120078   \n",
       "\n",
       "   Churn  \n",
       "0      0  \n",
       "1      0  \n",
       "2      0  \n",
       "3      0  \n",
       "4      0  "
      ]
     },
     "execution_count": 3,
     "metadata": {},
     "output_type": "execute_result"
    }
   ],
   "source": [
    "gym_data.head()"
   ]
  },
  {
   "cell_type": "markdown",
   "metadata": {},
   "source": [
    "## Estudio de datos"
   ]
  },
  {
   "cell_type": "code",
   "execution_count": 4,
   "metadata": {},
   "outputs": [],
   "source": [
    "gym_data.columns=['gender','near_location','partner','promo_friends','phone','contract_period','group_visits','age','avg_additional_charges_total','month_to_end_contract','lifetime','avg_class_frecuency_total','avg_frecuency_current_month','churn']"
   ]
  },
  {
   "cell_type": "code",
   "execution_count": 5,
   "metadata": {},
   "outputs": [
    {
     "data": {
      "text/html": [
       "<div>\n",
       "<style scoped>\n",
       "    .dataframe tbody tr th:only-of-type {\n",
       "        vertical-align: middle;\n",
       "    }\n",
       "\n",
       "    .dataframe tbody tr th {\n",
       "        vertical-align: top;\n",
       "    }\n",
       "\n",
       "    .dataframe thead th {\n",
       "        text-align: right;\n",
       "    }\n",
       "</style>\n",
       "<table border=\"1\" class=\"dataframe\">\n",
       "  <thead>\n",
       "    <tr style=\"text-align: right;\">\n",
       "      <th></th>\n",
       "      <th>gender</th>\n",
       "      <th>near_location</th>\n",
       "      <th>partner</th>\n",
       "      <th>promo_friends</th>\n",
       "      <th>phone</th>\n",
       "      <th>contract_period</th>\n",
       "      <th>group_visits</th>\n",
       "      <th>age</th>\n",
       "      <th>avg_additional_charges_total</th>\n",
       "      <th>month_to_end_contract</th>\n",
       "      <th>lifetime</th>\n",
       "      <th>avg_class_frecuency_total</th>\n",
       "      <th>avg_frecuency_current_month</th>\n",
       "      <th>churn</th>\n",
       "    </tr>\n",
       "  </thead>\n",
       "  <tbody>\n",
       "    <tr>\n",
       "      <th>count</th>\n",
       "      <td>4000.000000</td>\n",
       "      <td>4000.000000</td>\n",
       "      <td>4000.000000</td>\n",
       "      <td>4000.000000</td>\n",
       "      <td>4000.000000</td>\n",
       "      <td>4000.000000</td>\n",
       "      <td>4000.000000</td>\n",
       "      <td>4000.000000</td>\n",
       "      <td>4000.000000</td>\n",
       "      <td>4000.000000</td>\n",
       "      <td>4000.000000</td>\n",
       "      <td>4000.000000</td>\n",
       "      <td>4000.000000</td>\n",
       "      <td>4000.000000</td>\n",
       "    </tr>\n",
       "    <tr>\n",
       "      <th>mean</th>\n",
       "      <td>0.510250</td>\n",
       "      <td>0.845250</td>\n",
       "      <td>0.486750</td>\n",
       "      <td>0.308500</td>\n",
       "      <td>0.903500</td>\n",
       "      <td>4.681250</td>\n",
       "      <td>0.412250</td>\n",
       "      <td>29.184250</td>\n",
       "      <td>146.943728</td>\n",
       "      <td>4.322750</td>\n",
       "      <td>3.724750</td>\n",
       "      <td>1.879020</td>\n",
       "      <td>1.767052</td>\n",
       "      <td>0.265250</td>\n",
       "    </tr>\n",
       "    <tr>\n",
       "      <th>std</th>\n",
       "      <td>0.499957</td>\n",
       "      <td>0.361711</td>\n",
       "      <td>0.499887</td>\n",
       "      <td>0.461932</td>\n",
       "      <td>0.295313</td>\n",
       "      <td>4.549706</td>\n",
       "      <td>0.492301</td>\n",
       "      <td>3.258367</td>\n",
       "      <td>96.355602</td>\n",
       "      <td>4.191297</td>\n",
       "      <td>3.749267</td>\n",
       "      <td>0.972245</td>\n",
       "      <td>1.052906</td>\n",
       "      <td>0.441521</td>\n",
       "    </tr>\n",
       "    <tr>\n",
       "      <th>min</th>\n",
       "      <td>0.000000</td>\n",
       "      <td>0.000000</td>\n",
       "      <td>0.000000</td>\n",
       "      <td>0.000000</td>\n",
       "      <td>0.000000</td>\n",
       "      <td>1.000000</td>\n",
       "      <td>0.000000</td>\n",
       "      <td>18.000000</td>\n",
       "      <td>0.148205</td>\n",
       "      <td>1.000000</td>\n",
       "      <td>0.000000</td>\n",
       "      <td>0.000000</td>\n",
       "      <td>0.000000</td>\n",
       "      <td>0.000000</td>\n",
       "    </tr>\n",
       "    <tr>\n",
       "      <th>25%</th>\n",
       "      <td>0.000000</td>\n",
       "      <td>1.000000</td>\n",
       "      <td>0.000000</td>\n",
       "      <td>0.000000</td>\n",
       "      <td>1.000000</td>\n",
       "      <td>1.000000</td>\n",
       "      <td>0.000000</td>\n",
       "      <td>27.000000</td>\n",
       "      <td>68.868830</td>\n",
       "      <td>1.000000</td>\n",
       "      <td>1.000000</td>\n",
       "      <td>1.180875</td>\n",
       "      <td>0.963003</td>\n",
       "      <td>0.000000</td>\n",
       "    </tr>\n",
       "    <tr>\n",
       "      <th>50%</th>\n",
       "      <td>1.000000</td>\n",
       "      <td>1.000000</td>\n",
       "      <td>0.000000</td>\n",
       "      <td>0.000000</td>\n",
       "      <td>1.000000</td>\n",
       "      <td>1.000000</td>\n",
       "      <td>0.000000</td>\n",
       "      <td>29.000000</td>\n",
       "      <td>136.220159</td>\n",
       "      <td>1.000000</td>\n",
       "      <td>3.000000</td>\n",
       "      <td>1.832768</td>\n",
       "      <td>1.719574</td>\n",
       "      <td>0.000000</td>\n",
       "    </tr>\n",
       "    <tr>\n",
       "      <th>75%</th>\n",
       "      <td>1.000000</td>\n",
       "      <td>1.000000</td>\n",
       "      <td>1.000000</td>\n",
       "      <td>1.000000</td>\n",
       "      <td>1.000000</td>\n",
       "      <td>6.000000</td>\n",
       "      <td>1.000000</td>\n",
       "      <td>31.000000</td>\n",
       "      <td>210.949625</td>\n",
       "      <td>6.000000</td>\n",
       "      <td>5.000000</td>\n",
       "      <td>2.536078</td>\n",
       "      <td>2.510336</td>\n",
       "      <td>1.000000</td>\n",
       "    </tr>\n",
       "    <tr>\n",
       "      <th>max</th>\n",
       "      <td>1.000000</td>\n",
       "      <td>1.000000</td>\n",
       "      <td>1.000000</td>\n",
       "      <td>1.000000</td>\n",
       "      <td>1.000000</td>\n",
       "      <td>12.000000</td>\n",
       "      <td>1.000000</td>\n",
       "      <td>41.000000</td>\n",
       "      <td>552.590740</td>\n",
       "      <td>12.000000</td>\n",
       "      <td>31.000000</td>\n",
       "      <td>6.023668</td>\n",
       "      <td>6.146783</td>\n",
       "      <td>1.000000</td>\n",
       "    </tr>\n",
       "  </tbody>\n",
       "</table>\n",
       "</div>"
      ],
      "text/plain": [
       "            gender  near_location      partner  promo_friends        phone  \\\n",
       "count  4000.000000    4000.000000  4000.000000    4000.000000  4000.000000   \n",
       "mean      0.510250       0.845250     0.486750       0.308500     0.903500   \n",
       "std       0.499957       0.361711     0.499887       0.461932     0.295313   \n",
       "min       0.000000       0.000000     0.000000       0.000000     0.000000   \n",
       "25%       0.000000       1.000000     0.000000       0.000000     1.000000   \n",
       "50%       1.000000       1.000000     0.000000       0.000000     1.000000   \n",
       "75%       1.000000       1.000000     1.000000       1.000000     1.000000   \n",
       "max       1.000000       1.000000     1.000000       1.000000     1.000000   \n",
       "\n",
       "       contract_period  group_visits          age  \\\n",
       "count      4000.000000   4000.000000  4000.000000   \n",
       "mean          4.681250      0.412250    29.184250   \n",
       "std           4.549706      0.492301     3.258367   \n",
       "min           1.000000      0.000000    18.000000   \n",
       "25%           1.000000      0.000000    27.000000   \n",
       "50%           1.000000      0.000000    29.000000   \n",
       "75%           6.000000      1.000000    31.000000   \n",
       "max          12.000000      1.000000    41.000000   \n",
       "\n",
       "       avg_additional_charges_total  month_to_end_contract     lifetime  \\\n",
       "count                   4000.000000            4000.000000  4000.000000   \n",
       "mean                     146.943728               4.322750     3.724750   \n",
       "std                       96.355602               4.191297     3.749267   \n",
       "min                        0.148205               1.000000     0.000000   \n",
       "25%                       68.868830               1.000000     1.000000   \n",
       "50%                      136.220159               1.000000     3.000000   \n",
       "75%                      210.949625               6.000000     5.000000   \n",
       "max                      552.590740              12.000000    31.000000   \n",
       "\n",
       "       avg_class_frecuency_total  avg_frecuency_current_month        churn  \n",
       "count                4000.000000                  4000.000000  4000.000000  \n",
       "mean                    1.879020                     1.767052     0.265250  \n",
       "std                     0.972245                     1.052906     0.441521  \n",
       "min                     0.000000                     0.000000     0.000000  \n",
       "25%                     1.180875                     0.963003     0.000000  \n",
       "50%                     1.832768                     1.719574     0.000000  \n",
       "75%                     2.536078                     2.510336     1.000000  \n",
       "max                     6.023668                     6.146783     1.000000  "
      ]
     },
     "execution_count": 5,
     "metadata": {},
     "output_type": "execute_result"
    }
   ],
   "source": [
    "gym_data.describe()"
   ]
  },
  {
   "cell_type": "code",
   "execution_count": 6,
   "metadata": {},
   "outputs": [
    {
     "data": {
      "text/plain": [
       "gender                            int64\n",
       "near_location                     int64\n",
       "partner                           int64\n",
       "promo_friends                     int64\n",
       "phone                             int64\n",
       "contract_period                   int64\n",
       "group_visits                      int64\n",
       "age                               int64\n",
       "avg_additional_charges_total    float64\n",
       "month_to_end_contract           float64\n",
       "lifetime                          int64\n",
       "avg_class_frecuency_total       float64\n",
       "avg_frecuency_current_month     float64\n",
       "churn                             int64\n",
       "dtype: object"
      ]
     },
     "execution_count": 6,
     "metadata": {},
     "output_type": "execute_result"
    }
   ],
   "source": [
    "gym_data.dtypes"
   ]
  },
  {
   "cell_type": "code",
   "execution_count": 7,
   "metadata": {},
   "outputs": [
    {
     "data": {
      "text/plain": [
       "gender                          0\n",
       "near_location                   0\n",
       "partner                         0\n",
       "promo_friends                   0\n",
       "phone                           0\n",
       "contract_period                 0\n",
       "group_visits                    0\n",
       "age                             0\n",
       "avg_additional_charges_total    0\n",
       "month_to_end_contract           0\n",
       "lifetime                        0\n",
       "avg_class_frecuency_total       0\n",
       "avg_frecuency_current_month     0\n",
       "churn                           0\n",
       "dtype: int64"
      ]
     },
     "execution_count": 7,
     "metadata": {},
     "output_type": "execute_result"
    }
   ],
   "source": [
    "gym_data.isna().sum()"
   ]
  },
  {
   "cell_type": "code",
   "execution_count": 8,
   "metadata": {},
   "outputs": [
    {
     "data": {
      "text/plain": [
       "0"
      ]
     },
     "execution_count": 8,
     "metadata": {},
     "output_type": "execute_result"
    }
   ],
   "source": [
    "gym_data.duplicated().sum()"
   ]
  },
  {
   "cell_type": "code",
   "execution_count": 9,
   "metadata": {},
   "outputs": [
    {
     "data": {
      "text/html": [
       "<div>\n",
       "<style scoped>\n",
       "    .dataframe tbody tr th:only-of-type {\n",
       "        vertical-align: middle;\n",
       "    }\n",
       "\n",
       "    .dataframe tbody tr th {\n",
       "        vertical-align: top;\n",
       "    }\n",
       "\n",
       "    .dataframe thead th {\n",
       "        text-align: right;\n",
       "    }\n",
       "</style>\n",
       "<table border=\"1\" class=\"dataframe\">\n",
       "  <thead>\n",
       "    <tr style=\"text-align: right;\">\n",
       "      <th></th>\n",
       "      <th>gender</th>\n",
       "      <th>near_location</th>\n",
       "      <th>partner</th>\n",
       "      <th>promo_friends</th>\n",
       "      <th>phone</th>\n",
       "      <th>contract_period</th>\n",
       "      <th>group_visits</th>\n",
       "      <th>age</th>\n",
       "      <th>avg_additional_charges_total</th>\n",
       "      <th>month_to_end_contract</th>\n",
       "      <th>lifetime</th>\n",
       "      <th>avg_class_frecuency_total</th>\n",
       "      <th>avg_frecuency_current_month</th>\n",
       "    </tr>\n",
       "    <tr>\n",
       "      <th>churn</th>\n",
       "      <th></th>\n",
       "      <th></th>\n",
       "      <th></th>\n",
       "      <th></th>\n",
       "      <th></th>\n",
       "      <th></th>\n",
       "      <th></th>\n",
       "      <th></th>\n",
       "      <th></th>\n",
       "      <th></th>\n",
       "      <th></th>\n",
       "      <th></th>\n",
       "      <th></th>\n",
       "    </tr>\n",
       "  </thead>\n",
       "  <tbody>\n",
       "    <tr>\n",
       "      <th>0</th>\n",
       "      <td>0.510037</td>\n",
       "      <td>0.873086</td>\n",
       "      <td>0.534195</td>\n",
       "      <td>0.353522</td>\n",
       "      <td>0.903709</td>\n",
       "      <td>5.747193</td>\n",
       "      <td>0.464103</td>\n",
       "      <td>29.976523</td>\n",
       "      <td>158.445715</td>\n",
       "      <td>5.283089</td>\n",
       "      <td>4.711807</td>\n",
       "      <td>2.024876</td>\n",
       "      <td>2.027882</td>\n",
       "    </tr>\n",
       "    <tr>\n",
       "      <th>1</th>\n",
       "      <td>0.510839</td>\n",
       "      <td>0.768143</td>\n",
       "      <td>0.355325</td>\n",
       "      <td>0.183789</td>\n",
       "      <td>0.902922</td>\n",
       "      <td>1.728558</td>\n",
       "      <td>0.268615</td>\n",
       "      <td>26.989632</td>\n",
       "      <td>115.082899</td>\n",
       "      <td>1.662582</td>\n",
       "      <td>0.990575</td>\n",
       "      <td>1.474995</td>\n",
       "      <td>1.044546</td>\n",
       "    </tr>\n",
       "  </tbody>\n",
       "</table>\n",
       "</div>"
      ],
      "text/plain": [
       "         gender  near_location   partner  promo_friends     phone  \\\n",
       "churn                                                               \n",
       "0      0.510037       0.873086  0.534195       0.353522  0.903709   \n",
       "1      0.510839       0.768143  0.355325       0.183789  0.902922   \n",
       "\n",
       "       contract_period  group_visits        age  avg_additional_charges_total  \\\n",
       "churn                                                                           \n",
       "0             5.747193      0.464103  29.976523                    158.445715   \n",
       "1             1.728558      0.268615  26.989632                    115.082899   \n",
       "\n",
       "       month_to_end_contract  lifetime  avg_class_frecuency_total  \\\n",
       "churn                                                               \n",
       "0                   5.283089  4.711807                   2.024876   \n",
       "1                   1.662582  0.990575                   1.474995   \n",
       "\n",
       "       avg_frecuency_current_month  \n",
       "churn                               \n",
       "0                         2.027882  \n",
       "1                         1.044546  "
      ]
     },
     "execution_count": 9,
     "metadata": {},
     "output_type": "execute_result"
    }
   ],
   "source": [
    "gym_data.groupby('churn').mean()"
   ]
  },
  {
   "cell_type": "code",
   "execution_count": 10,
   "metadata": {},
   "outputs": [
    {
     "data": {
      "image/png": "[encoded data removed]",
      "text/plain": [
       "<Figure size 600x300 with 1 Axes>"
      ]
     },
     "metadata": {},
     "output_type": "display_data"
    }
   ],
   "source": [
    "plt.figure(figsize=(6, 3))\n",
    "sns.histplot(data=gym_data, x='churn', ax=plt.gca(), stat='probability', common_norm=False)\n",
    "plt.show()"
   ]
  },
  {
   "cell_type": "code",
   "execution_count": 11,
   "metadata": {},
   "outputs": [
    {
     "data": {
      "image/png": "[encoded data removed]",
      "text/plain": [
       "<Figure size 600x300 with 1 Axes>"
      ]
     },
     "metadata": {},
     "output_type": "display_data"
    }
   ],
   "source": [
    "plt.figure(figsize=(6, 3))\n",
    "sns.histplot(data=gym_data, x='age', hue='churn', ax=plt.gca(), stat='probability', common_norm=False)\n",
    "plt.show()"
   ]
  },
  {
   "cell_type": "code",
   "execution_count": 12,
   "metadata": {},
   "outputs": [
    {
     "data": {
      "image/png": "[encoded data removed]",
      "text/plain": [
       "<Figure size 600x300 with 1 Axes>"
      ]
     },
     "metadata": {},
     "output_type": "display_data"
    }
   ],
   "source": [
    "plt.figure(figsize=(6, 3))\n",
    "sns.histplot(data=gym_data, x='avg_class_frecuency_total', hue='churn', ax=plt.gca(), stat='probability', common_norm=False)\n",
    "plt.show()"
   ]
  },
  {
   "cell_type": "markdown",
   "metadata": {},
   "source": [
    "Nota: La cancelacion es mas comun en usuarios menores de 30 años y que van al menos dos veces a la semana. "
   ]
  },
  {
   "cell_type": "code",
   "execution_count": 13,
   "metadata": {},
   "outputs": [
    {
     "data": {
      "text/plain": [
       "<AxesSubplot:>"
      ]
     },
     "execution_count": 13,
     "metadata": {},
     "output_type": "execute_result"
    },
    {
     "data": {
      "image/png": "[encoded data removed]",
      "text/plain": [
       "<Figure size 640x480 with 2 Axes>"
      ]
     },
     "metadata": {},
     "output_type": "display_data"
    }
   ],
   "source": [
    "sns.heatmap(data=gym_data.corr())"
   ]
  },
  {
   "cell_type": "markdown",
   "metadata": {},
   "source": [
    "Nota: los que estan mas relacionados negativamente son location, partner y promociones de amigos."
   ]
  },
  {
   "cell_type": "markdown",
   "metadata": {},
   "source": [
    "# Construir un modelo para predecir la cancelación de usuarios"
   ]
  },
  {
   "cell_type": "markdown",
   "metadata": {},
   "source": [
    "## Modelo regresión logística"
   ]
  },
  {
   "cell_type": "code",
   "execution_count": 14,
   "metadata": {},
   "outputs": [],
   "source": [
    "from sklearn.model_selection import train_test_split"
   ]
  },
  {
   "cell_type": "code",
   "execution_count": 15,
   "metadata": {},
   "outputs": [],
   "source": [
    "train_df, test_df = train_test_split(\n",
    "    gym_data,\n",
    "    test_size=0.2,\n",
    "    random_state=88\n",
    ")\n",
    "\n",
    "target = 'churn'\n",
    "drop_columns = ['gender']\n",
    "\n",
    "features = [f for f in gym_data.columns if f not in [target] + drop_columns]"
   ]
  },
  {
   "cell_type": "code",
   "execution_count": 16,
   "metadata": {},
   "outputs": [],
   "source": [
    "from sklearn.linear_model import LogisticRegression\n",
    "model_logic = LogisticRegression()"
   ]
  },
  {
   "cell_type": "code",
   "execution_count": 17,
   "metadata": {},
   "outputs": [
    {
     "name": "stderr",
     "output_type": "stream",
     "text": [
      "/opt/conda/envs/python3/lib/python3.9/site-packages/sklearn/linear_model/_logistic.py:763: ConvergenceWarning: lbfgs failed to converge (status=1):\n",
      "STOP: TOTAL NO. of ITERATIONS REACHED LIMIT.\n",
      "\n",
      "Increase the number of iterations (max_iter) or scale the data as shown in:\n",
      "    https://scikit-learn.org/stable/modules/preprocessing.html\n",
      "Please also refer to the documentation for alternative solver options:\n",
      "    https://scikit-learn.org/stable/modules/linear_model.html#logistic-regression\n",
      "  n_iter_i = _check_optimize_result(\n"
     ]
    },
    {
     "data": {
      "text/plain": [
       "LogisticRegression()"
      ]
     },
     "execution_count": 17,
     "metadata": {},
     "output_type": "execute_result"
    }
   ],
   "source": [
    "model_logic.fit(train_df[features], train_df[target])\n"
   ]
  },
  {
   "cell_type": "code",
   "execution_count": 18,
   "metadata": {},
   "outputs": [],
   "source": [
    "test_preds_logic = model_logic.predict_proba(test_df[features])[:,1]"
   ]
  },
  {
   "cell_type": "code",
   "execution_count": 19,
   "metadata": {},
   "outputs": [],
   "source": [
    "from sklearn.metrics import (\n",
    "    accuracy_score,\n",
    "    recall_score,\n",
    "    precision_score,\n",
    "    f1_score\n",
    ")\n",
    "\n",
    "thresholds = []\n",
    "accuracy_scores = []\n",
    "recall_scores = []\n",
    "precision_scores = []\n",
    "f1_scores = []\n"
   ]
  },
  {
   "cell_type": "code",
   "execution_count": 20,
   "metadata": {},
   "outputs": [
    {
     "name": "stderr",
     "output_type": "stream",
     "text": [
      "/opt/conda/envs/python3/lib/python3.9/site-packages/sklearn/metrics/_classification.py:1245: UndefinedMetricWarning: Precision is ill-defined and being set to 0.0 due to no predicted samples. Use `zero_division` parameter to control this behavior.\n",
      "  _warn_prf(average, modifier, msg_start, len(result))\n"
     ]
    }
   ],
   "source": [
    "for t in np.linspace(0, 1, 21):\n",
    "    class_preds_logic = test_preds_logic > t\n",
    "    \n",
    "    thresholds.append(t)\n",
    "    accuracy_scores.append(accuracy_score(test_df[target], class_preds_logic))\n",
    "    recall_scores.append(recall_score(test_df[target], class_preds_logic))\n",
    "    precision_scores.append(precision_score(test_df[target], class_preds_logic))\n",
    "    f1_scores.append(f1_score(test_df[target], class_preds_logic))\n",
    "    \n",
    "performance_df_logic = pd.DataFrame(data={\n",
    "    'thresholds': thresholds,\n",
    "    'accuracy_scores': accuracy_scores,\n",
    "    'recall_scores': recall_scores,\n",
    "    'precision_scores': precision_scores,\n",
    "    'f1_scores': f1_scores,\n",
    "})"
   ]
  },
  {
   "cell_type": "code",
   "execution_count": 21,
   "metadata": {},
   "outputs": [
    {
     "data": {
      "image/png": "[encoded data removed]",
      "text/plain": [
       "<Figure size 800x300 with 1 Axes>"
      ]
     },
     "metadata": {},
     "output_type": "display_data"
    }
   ],
   "source": [
    "plt.figure(figsize=(8, 3))\n",
    "sns.lineplot(data=performance_df_logic, x='thresholds', y='accuracy_scores', ax=plt.gca(), label='accuracy')\n",
    "sns.lineplot(data=performance_df_logic, x='thresholds', y='recall_scores', ax=plt.gca(), label='recall')\n",
    "sns.lineplot(data=performance_df_logic, x='thresholds', y='precision_scores', ax=plt.gca(), label='precision')\n",
    "sns.lineplot(data=performance_df_logic, x='thresholds', y='f1_scores', ax=plt.gca(), label='f1')\n",
    "plt.show()"
   ]
  },
  {
   "cell_type": "code",
   "execution_count": 22,
   "metadata": {},
   "outputs": [
    {
     "data": {
      "text/html": [
       "<div>\n",
       "<style scoped>\n",
       "    .dataframe tbody tr th:only-of-type {\n",
       "        vertical-align: middle;\n",
       "    }\n",
       "\n",
       "    .dataframe tbody tr th {\n",
       "        vertical-align: top;\n",
       "    }\n",
       "\n",
       "    .dataframe thead th {\n",
       "        text-align: right;\n",
       "    }\n",
       "</style>\n",
       "<table border=\"1\" class=\"dataframe\">\n",
       "  <thead>\n",
       "    <tr style=\"text-align: right;\">\n",
       "      <th></th>\n",
       "      <th>thresholds</th>\n",
       "      <th>accuracy_scores</th>\n",
       "      <th>recall_scores</th>\n",
       "      <th>precision_scores</th>\n",
       "      <th>f1_scores</th>\n",
       "    </tr>\n",
       "  </thead>\n",
       "  <tbody>\n",
       "    <tr>\n",
       "      <th>0</th>\n",
       "      <td>0.00</td>\n",
       "      <td>0.26500</td>\n",
       "      <td>1.000000</td>\n",
       "      <td>0.265000</td>\n",
       "      <td>0.418972</td>\n",
       "    </tr>\n",
       "    <tr>\n",
       "      <th>1</th>\n",
       "      <td>0.05</td>\n",
       "      <td>0.78625</td>\n",
       "      <td>0.981132</td>\n",
       "      <td>0.554667</td>\n",
       "      <td>0.708688</td>\n",
       "    </tr>\n",
       "    <tr>\n",
       "      <th>2</th>\n",
       "      <td>0.10</td>\n",
       "      <td>0.81500</td>\n",
       "      <td>0.948113</td>\n",
       "      <td>0.594675</td>\n",
       "      <td>0.730909</td>\n",
       "    </tr>\n",
       "    <tr>\n",
       "      <th>3</th>\n",
       "      <td>0.15</td>\n",
       "      <td>0.84125</td>\n",
       "      <td>0.943396</td>\n",
       "      <td>0.634921</td>\n",
       "      <td>0.759013</td>\n",
       "    </tr>\n",
       "    <tr>\n",
       "      <th>4</th>\n",
       "      <td>0.20</td>\n",
       "      <td>0.86500</td>\n",
       "      <td>0.924528</td>\n",
       "      <td>0.680556</td>\n",
       "      <td>0.784000</td>\n",
       "    </tr>\n",
       "    <tr>\n",
       "      <th>5</th>\n",
       "      <td>0.25</td>\n",
       "      <td>0.88125</td>\n",
       "      <td>0.905660</td>\n",
       "      <td>0.719101</td>\n",
       "      <td>0.801670</td>\n",
       "    </tr>\n",
       "    <tr>\n",
       "      <th>6</th>\n",
       "      <td>0.30</td>\n",
       "      <td>0.88875</td>\n",
       "      <td>0.891509</td>\n",
       "      <td>0.741176</td>\n",
       "      <td>0.809422</td>\n",
       "    </tr>\n",
       "    <tr>\n",
       "      <th>7</th>\n",
       "      <td>0.35</td>\n",
       "      <td>0.89125</td>\n",
       "      <td>0.877358</td>\n",
       "      <td>0.753036</td>\n",
       "      <td>0.810458</td>\n",
       "    </tr>\n",
       "    <tr>\n",
       "      <th>8</th>\n",
       "      <td>0.40</td>\n",
       "      <td>0.90500</td>\n",
       "      <td>0.872642</td>\n",
       "      <td>0.790598</td>\n",
       "      <td>0.829596</td>\n",
       "    </tr>\n",
       "    <tr>\n",
       "      <th>9</th>\n",
       "      <td>0.45</td>\n",
       "      <td>0.91375</td>\n",
       "      <td>0.849057</td>\n",
       "      <td>0.829493</td>\n",
       "      <td>0.839161</td>\n",
       "    </tr>\n",
       "    <tr>\n",
       "      <th>10</th>\n",
       "      <td>0.50</td>\n",
       "      <td>0.90875</td>\n",
       "      <td>0.820755</td>\n",
       "      <td>0.832536</td>\n",
       "      <td>0.826603</td>\n",
       "    </tr>\n",
       "    <tr>\n",
       "      <th>11</th>\n",
       "      <td>0.55</td>\n",
       "      <td>0.91250</td>\n",
       "      <td>0.797170</td>\n",
       "      <td>0.862245</td>\n",
       "      <td>0.828431</td>\n",
       "    </tr>\n",
       "    <tr>\n",
       "      <th>12</th>\n",
       "      <td>0.60</td>\n",
       "      <td>0.91375</td>\n",
       "      <td>0.778302</td>\n",
       "      <td>0.882353</td>\n",
       "      <td>0.827068</td>\n",
       "    </tr>\n",
       "    <tr>\n",
       "      <th>13</th>\n",
       "      <td>0.65</td>\n",
       "      <td>0.90625</td>\n",
       "      <td>0.740566</td>\n",
       "      <td>0.887006</td>\n",
       "      <td>0.807198</td>\n",
       "    </tr>\n",
       "    <tr>\n",
       "      <th>14</th>\n",
       "      <td>0.70</td>\n",
       "      <td>0.90250</td>\n",
       "      <td>0.712264</td>\n",
       "      <td>0.898810</td>\n",
       "      <td>0.794737</td>\n",
       "    </tr>\n",
       "    <tr>\n",
       "      <th>15</th>\n",
       "      <td>0.75</td>\n",
       "      <td>0.90250</td>\n",
       "      <td>0.679245</td>\n",
       "      <td>0.935065</td>\n",
       "      <td>0.786885</td>\n",
       "    </tr>\n",
       "    <tr>\n",
       "      <th>16</th>\n",
       "      <td>0.80</td>\n",
       "      <td>0.89625</td>\n",
       "      <td>0.636792</td>\n",
       "      <td>0.957447</td>\n",
       "      <td>0.764873</td>\n",
       "    </tr>\n",
       "    <tr>\n",
       "      <th>17</th>\n",
       "      <td>0.85</td>\n",
       "      <td>0.88000</td>\n",
       "      <td>0.566038</td>\n",
       "      <td>0.967742</td>\n",
       "      <td>0.714286</td>\n",
       "    </tr>\n",
       "    <tr>\n",
       "      <th>18</th>\n",
       "      <td>0.90</td>\n",
       "      <td>0.86500</td>\n",
       "      <td>0.495283</td>\n",
       "      <td>0.990566</td>\n",
       "      <td>0.660377</td>\n",
       "    </tr>\n",
       "    <tr>\n",
       "      <th>19</th>\n",
       "      <td>0.95</td>\n",
       "      <td>0.83375</td>\n",
       "      <td>0.377358</td>\n",
       "      <td>0.987654</td>\n",
       "      <td>0.546075</td>\n",
       "    </tr>\n",
       "    <tr>\n",
       "      <th>20</th>\n",
       "      <td>1.00</td>\n",
       "      <td>0.73500</td>\n",
       "      <td>0.000000</td>\n",
       "      <td>0.000000</td>\n",
       "      <td>0.000000</td>\n",
       "    </tr>\n",
       "  </tbody>\n",
       "</table>\n",
       "</div>"
      ],
      "text/plain": [
       "    thresholds  accuracy_scores  recall_scores  precision_scores  f1_scores\n",
       "0         0.00          0.26500       1.000000          0.265000   0.418972\n",
       "1         0.05          0.78625       0.981132          0.554667   0.708688\n",
       "2         0.10          0.81500       0.948113          0.594675   0.730909\n",
       "3         0.15          0.84125       0.943396          0.634921   0.759013\n",
       "4         0.20          0.86500       0.924528          0.680556   0.784000\n",
       "5         0.25          0.88125       0.905660          0.719101   0.801670\n",
       "6         0.30          0.88875       0.891509          0.741176   0.809422\n",
       "7         0.35          0.89125       0.877358          0.753036   0.810458\n",
       "8         0.40          0.90500       0.872642          0.790598   0.829596\n",
       "9         0.45          0.91375       0.849057          0.829493   0.839161\n",
       "10        0.50          0.90875       0.820755          0.832536   0.826603\n",
       "11        0.55          0.91250       0.797170          0.862245   0.828431\n",
       "12        0.60          0.91375       0.778302          0.882353   0.827068\n",
       "13        0.65          0.90625       0.740566          0.887006   0.807198\n",
       "14        0.70          0.90250       0.712264          0.898810   0.794737\n",
       "15        0.75          0.90250       0.679245          0.935065   0.786885\n",
       "16        0.80          0.89625       0.636792          0.957447   0.764873\n",
       "17        0.85          0.88000       0.566038          0.967742   0.714286\n",
       "18        0.90          0.86500       0.495283          0.990566   0.660377\n",
       "19        0.95          0.83375       0.377358          0.987654   0.546075\n",
       "20        1.00          0.73500       0.000000          0.000000   0.000000"
      ]
     },
     "execution_count": 22,
     "metadata": {},
     "output_type": "execute_result"
    }
   ],
   "source": [
    "performance_df_logic"
   ]
  },
  {
   "cell_type": "markdown",
   "metadata": {},
   "source": [
    "## Modelo bosque aleatorio."
   ]
  },
  {
   "cell_type": "code",
   "execution_count": 23,
   "metadata": {},
   "outputs": [],
   "source": [
    "from sklearn.ensemble import RandomForestClassifier\n",
    "\n",
    "model_rf = RandomForestClassifier(random_state=100)"
   ]
  },
  {
   "cell_type": "code",
   "execution_count": 24,
   "metadata": {},
   "outputs": [],
   "source": [
    "model_rf.fit(train_df[features], train_df[target])\n",
    "\n",
    "test_preds_rf = model_rf.predict_proba(test_df[features])[:,1]"
   ]
  },
  {
   "cell_type": "code",
   "execution_count": 25,
   "metadata": {},
   "outputs": [
    {
     "name": "stderr",
     "output_type": "stream",
     "text": [
      "/opt/conda/envs/python3/lib/python3.9/site-packages/sklearn/metrics/_classification.py:1245: UndefinedMetricWarning: Precision is ill-defined and being set to 0.0 due to no predicted samples. Use `zero_division` parameter to control this behavior.\n",
      "  _warn_prf(average, modifier, msg_start, len(result))\n"
     ]
    }
   ],
   "source": [
    "from sklearn.metrics import (\n",
    "    accuracy_score,\n",
    "    recall_score,\n",
    "    precision_score,\n",
    "    f1_score\n",
    ")\n",
    "\n",
    "thresholds = []\n",
    "accuracy_scores = []\n",
    "recall_scores = []\n",
    "precision_scores = []\n",
    "f1_scores = []\n",
    "\n",
    "for t in np.linspace(0, 1, 21):\n",
    "    class_preds_rf = test_preds_rf > t\n",
    "    \n",
    "    thresholds.append(t)\n",
    "    accuracy_scores.append(accuracy_score(test_df[target], class_preds_rf))\n",
    "    recall_scores.append(recall_score(test_df[target], class_preds_rf))\n",
    "    precision_scores.append(precision_score(test_df[target], class_preds_rf))\n",
    "    f1_scores.append(f1_score(test_df[target], class_preds_rf))\n",
    "    \n",
    "performance_df_rf = pd.DataFrame(data={\n",
    "    'thresholds': thresholds,\n",
    "    'accuracy_scores': accuracy_scores,\n",
    "    'recall_scores': recall_scores,\n",
    "    'precision_scores': precision_scores,\n",
    "    'f1_scores': f1_scores,\n",
    "})"
   ]
  },
  {
   "cell_type": "code",
   "execution_count": 26,
   "metadata": {},
   "outputs": [
    {
     "data": {
      "image/png": "[encoded data removed]",
      "text/plain": [
       "<Figure size 800x300 with 1 Axes>"
      ]
     },
     "metadata": {},
     "output_type": "display_data"
    }
   ],
   "source": [
    "plt.figure(figsize=(8, 3))\n",
    "sns.lineplot(data=performance_df_rf, x='thresholds', y='accuracy_scores', ax=plt.gca(), label='accuracy')\n",
    "sns.lineplot(data=performance_df_rf, x='thresholds', y='recall_scores', ax=plt.gca(), label='recall')\n",
    "sns.lineplot(data=performance_df_rf, x='thresholds', y='precision_scores', ax=plt.gca(), label='precision')\n",
    "sns.lineplot(data=performance_df_rf, x='thresholds', y='f1_scores', ax=plt.gca(), label='f1')\n",
    "plt.show()"
   ]
  },
  {
   "cell_type": "code",
   "execution_count": 27,
   "metadata": {},
   "outputs": [
    {
     "data": {
      "text/html": [
       "<div>\n",
       "<style scoped>\n",
       "    .dataframe tbody tr th:only-of-type {\n",
       "        vertical-align: middle;\n",
       "    }\n",
       "\n",
       "    .dataframe tbody tr th {\n",
       "        vertical-align: top;\n",
       "    }\n",
       "\n",
       "    .dataframe thead th {\n",
       "        text-align: right;\n",
       "    }\n",
       "</style>\n",
       "<table border=\"1\" class=\"dataframe\">\n",
       "  <thead>\n",
       "    <tr style=\"text-align: right;\">\n",
       "      <th></th>\n",
       "      <th>thresholds</th>\n",
       "      <th>accuracy_scores</th>\n",
       "      <th>recall_scores</th>\n",
       "      <th>precision_scores</th>\n",
       "      <th>f1_scores</th>\n",
       "    </tr>\n",
       "  </thead>\n",
       "  <tbody>\n",
       "    <tr>\n",
       "      <th>0</th>\n",
       "      <td>0.00</td>\n",
       "      <td>0.45125</td>\n",
       "      <td>1.000000</td>\n",
       "      <td>0.325653</td>\n",
       "      <td>0.491309</td>\n",
       "    </tr>\n",
       "    <tr>\n",
       "      <th>1</th>\n",
       "      <td>0.05</td>\n",
       "      <td>0.71750</td>\n",
       "      <td>0.990566</td>\n",
       "      <td>0.483871</td>\n",
       "      <td>0.650155</td>\n",
       "    </tr>\n",
       "    <tr>\n",
       "      <th>2</th>\n",
       "      <td>0.10</td>\n",
       "      <td>0.80625</td>\n",
       "      <td>0.990566</td>\n",
       "      <td>0.578512</td>\n",
       "      <td>0.730435</td>\n",
       "    </tr>\n",
       "    <tr>\n",
       "      <th>3</th>\n",
       "      <td>0.15</td>\n",
       "      <td>0.84625</td>\n",
       "      <td>0.976415</td>\n",
       "      <td>0.636923</td>\n",
       "      <td>0.770950</td>\n",
       "    </tr>\n",
       "    <tr>\n",
       "      <th>4</th>\n",
       "      <td>0.20</td>\n",
       "      <td>0.87125</td>\n",
       "      <td>0.971698</td>\n",
       "      <td>0.679868</td>\n",
       "      <td>0.800000</td>\n",
       "    </tr>\n",
       "    <tr>\n",
       "      <th>5</th>\n",
       "      <td>0.25</td>\n",
       "      <td>0.88125</td>\n",
       "      <td>0.962264</td>\n",
       "      <td>0.701031</td>\n",
       "      <td>0.811133</td>\n",
       "    </tr>\n",
       "    <tr>\n",
       "      <th>6</th>\n",
       "      <td>0.30</td>\n",
       "      <td>0.89000</td>\n",
       "      <td>0.938679</td>\n",
       "      <td>0.726277</td>\n",
       "      <td>0.818930</td>\n",
       "    </tr>\n",
       "    <tr>\n",
       "      <th>7</th>\n",
       "      <td>0.35</td>\n",
       "      <td>0.90000</td>\n",
       "      <td>0.915094</td>\n",
       "      <td>0.757812</td>\n",
       "      <td>0.829060</td>\n",
       "    </tr>\n",
       "    <tr>\n",
       "      <th>8</th>\n",
       "      <td>0.40</td>\n",
       "      <td>0.91250</td>\n",
       "      <td>0.900943</td>\n",
       "      <td>0.795833</td>\n",
       "      <td>0.845133</td>\n",
       "    </tr>\n",
       "    <tr>\n",
       "      <th>9</th>\n",
       "      <td>0.45</td>\n",
       "      <td>0.92250</td>\n",
       "      <td>0.872642</td>\n",
       "      <td>0.840909</td>\n",
       "      <td>0.856481</td>\n",
       "    </tr>\n",
       "    <tr>\n",
       "      <th>10</th>\n",
       "      <td>0.50</td>\n",
       "      <td>0.92125</td>\n",
       "      <td>0.844340</td>\n",
       "      <td>0.856459</td>\n",
       "      <td>0.850356</td>\n",
       "    </tr>\n",
       "    <tr>\n",
       "      <th>11</th>\n",
       "      <td>0.55</td>\n",
       "      <td>0.91000</td>\n",
       "      <td>0.792453</td>\n",
       "      <td>0.857143</td>\n",
       "      <td>0.823529</td>\n",
       "    </tr>\n",
       "    <tr>\n",
       "      <th>12</th>\n",
       "      <td>0.60</td>\n",
       "      <td>0.91250</td>\n",
       "      <td>0.759434</td>\n",
       "      <td>0.894444</td>\n",
       "      <td>0.821429</td>\n",
       "    </tr>\n",
       "    <tr>\n",
       "      <th>13</th>\n",
       "      <td>0.65</td>\n",
       "      <td>0.90125</td>\n",
       "      <td>0.698113</td>\n",
       "      <td>0.907975</td>\n",
       "      <td>0.789333</td>\n",
       "    </tr>\n",
       "    <tr>\n",
       "      <th>14</th>\n",
       "      <td>0.70</td>\n",
       "      <td>0.89750</td>\n",
       "      <td>0.650943</td>\n",
       "      <td>0.945205</td>\n",
       "      <td>0.770950</td>\n",
       "    </tr>\n",
       "    <tr>\n",
       "      <th>15</th>\n",
       "      <td>0.75</td>\n",
       "      <td>0.88250</td>\n",
       "      <td>0.584906</td>\n",
       "      <td>0.953846</td>\n",
       "      <td>0.725146</td>\n",
       "    </tr>\n",
       "    <tr>\n",
       "      <th>16</th>\n",
       "      <td>0.80</td>\n",
       "      <td>0.87125</td>\n",
       "      <td>0.533019</td>\n",
       "      <td>0.965812</td>\n",
       "      <td>0.686930</td>\n",
       "    </tr>\n",
       "    <tr>\n",
       "      <th>17</th>\n",
       "      <td>0.85</td>\n",
       "      <td>0.85750</td>\n",
       "      <td>0.476415</td>\n",
       "      <td>0.971154</td>\n",
       "      <td>0.639241</td>\n",
       "    </tr>\n",
       "    <tr>\n",
       "      <th>18</th>\n",
       "      <td>0.90</td>\n",
       "      <td>0.83375</td>\n",
       "      <td>0.372642</td>\n",
       "      <td>1.000000</td>\n",
       "      <td>0.542955</td>\n",
       "    </tr>\n",
       "    <tr>\n",
       "      <th>19</th>\n",
       "      <td>0.95</td>\n",
       "      <td>0.80000</td>\n",
       "      <td>0.245283</td>\n",
       "      <td>1.000000</td>\n",
       "      <td>0.393939</td>\n",
       "    </tr>\n",
       "    <tr>\n",
       "      <th>20</th>\n",
       "      <td>1.00</td>\n",
       "      <td>0.73500</td>\n",
       "      <td>0.000000</td>\n",
       "      <td>0.000000</td>\n",
       "      <td>0.000000</td>\n",
       "    </tr>\n",
       "  </tbody>\n",
       "</table>\n",
       "</div>"
      ],
      "text/plain": [
       "    thresholds  accuracy_scores  recall_scores  precision_scores  f1_scores\n",
       "0         0.00          0.45125       1.000000          0.325653   0.491309\n",
       "1         0.05          0.71750       0.990566          0.483871   0.650155\n",
       "2         0.10          0.80625       0.990566          0.578512   0.730435\n",
       "3         0.15          0.84625       0.976415          0.636923   0.770950\n",
       "4         0.20          0.87125       0.971698          0.679868   0.800000\n",
       "5         0.25          0.88125       0.962264          0.701031   0.811133\n",
       "6         0.30          0.89000       0.938679          0.726277   0.818930\n",
       "7         0.35          0.90000       0.915094          0.757812   0.829060\n",
       "8         0.40          0.91250       0.900943          0.795833   0.845133\n",
       "9         0.45          0.92250       0.872642          0.840909   0.856481\n",
       "10        0.50          0.92125       0.844340          0.856459   0.850356\n",
       "11        0.55          0.91000       0.792453          0.857143   0.823529\n",
       "12        0.60          0.91250       0.759434          0.894444   0.821429\n",
       "13        0.65          0.90125       0.698113          0.907975   0.789333\n",
       "14        0.70          0.89750       0.650943          0.945205   0.770950\n",
       "15        0.75          0.88250       0.584906          0.953846   0.725146\n",
       "16        0.80          0.87125       0.533019          0.965812   0.686930\n",
       "17        0.85          0.85750       0.476415          0.971154   0.639241\n",
       "18        0.90          0.83375       0.372642          1.000000   0.542955\n",
       "19        0.95          0.80000       0.245283          1.000000   0.393939\n",
       "20        1.00          0.73500       0.000000          0.000000   0.000000"
      ]
     },
     "execution_count": 27,
     "metadata": {},
     "output_type": "execute_result"
    }
   ],
   "source": [
    "performance_df_rf"
   ]
  },
  {
   "cell_type": "markdown",
   "metadata": {},
   "source": [
    "Nota: Ambos modelos dan resultados muy similares, pero teniendo los resultados finales el modelo de regresion logistica da mejores resultados para cada uno de los clusters. "
   ]
  },
  {
   "cell_type": "markdown",
   "metadata": {},
   "source": [
    "# Crear clústeres de usuarios/as"
   ]
  },
  {
   "cell_type": "markdown",
   "metadata": {},
   "source": [
    "## Estandariza los datos."
   ]
  },
  {
   "cell_type": "code",
   "execution_count": 28,
   "metadata": {},
   "outputs": [],
   "source": [
    "from sklearn.preprocessing import StandardScaler\n",
    "\n",
    "scaler = StandardScaler()\n",
    "scaler.fit(train_df[features])\n",
    "\n",
    "train_features_scaled = scaler.transform(train_df[features])\n",
    "test_features_scaled = scaler.transform(test_df[features])"
   ]
  },
  {
   "cell_type": "markdown",
   "metadata": {},
   "source": [
    "## Dendrograma"
   ]
  },
  {
   "cell_type": "code",
   "execution_count": 29,
   "metadata": {},
   "outputs": [],
   "source": [
    "from scipy.cluster.hierarchy import dendrogram, linkage"
   ]
  },
  {
   "cell_type": "code",
   "execution_count": 30,
   "metadata": {},
   "outputs": [],
   "source": [
    "data_linkage= linkage(train_features_scaled,method='centroid')"
   ]
  },
  {
   "cell_type": "code",
   "execution_count": 31,
   "metadata": {},
   "outputs": [
    {
     "data": {
      "image/png": "[encoded data removed]",
      "text/plain": [
       "<Figure size 1500x1200 with 1 Axes>"
      ]
     },
     "metadata": {},
     "output_type": "display_data"
    }
   ],
   "source": [
    "plt.figure(figsize=(15,12))\n",
    "dendrogram(data_linkage, orientation='top')\n",
    "plt.show()"
   ]
  },
  {
   "cell_type": "markdown",
   "metadata": {},
   "source": [
    "## Algortimo K-means"
   ]
  },
  {
   "cell_type": "code",
   "execution_count": 32,
   "metadata": {},
   "outputs": [
    {
     "data": {
      "text/plain": [
       "KMeans(n_clusters=5)"
      ]
     },
     "execution_count": 32,
     "metadata": {},
     "output_type": "execute_result"
    }
   ],
   "source": [
    "from sklearn.cluster import KMeans\n",
    "\n",
    "model_km = KMeans(n_clusters=5)\n",
    "model_km.fit(train_features_scaled)"
   ]
  },
  {
   "cell_type": "code",
   "execution_count": 33,
   "metadata": {},
   "outputs": [],
   "source": [
    "test_clusters = model_km.predict(test_features_scaled)"
   ]
  },
  {
   "cell_type": "code",
   "execution_count": 34,
   "metadata": {},
   "outputs": [],
   "source": [
    "test_features_unscaled = scaler.inverse_transform(test_features_scaled)\n",
    "\n",
    "test_df_scaled = pd.DataFrame(test_features_unscaled)\n",
    "test_df_scaled.columns = test_df.drop(columns=[target] + drop_columns).columns\n",
    "\n",
    "test_df_scaled['cluster'] = test_clusters\n",
    "test_df_scaled['churn'] = test_df['churn']"
   ]
  },
  {
   "cell_type": "markdown",
   "metadata": {},
   "source": [
    "## Valores medios de característica para los clústeres"
   ]
  },
  {
   "cell_type": "code",
   "execution_count": 35,
   "metadata": {},
   "outputs": [
    {
     "data": {
      "image/png": "[encoded data removed]",
      "text/plain": [
       "<Figure size 800x400 with 1 Axes>"
      ]
     },
     "metadata": {},
     "output_type": "display_data"
    }
   ],
   "source": [
    "plt.figure(figsize=(8, 4))\n",
    "test_df_scaled.groupby('cluster')['churn'].mean().plot(kind='bar', ax=plt.gca())\n",
    "plt.show()"
   ]
  },
  {
   "cell_type": "code",
   "execution_count": 36,
   "metadata": {},
   "outputs": [
    {
     "data": {
      "text/html": [
       "<div>\n",
       "<style scoped>\n",
       "    .dataframe tbody tr th:only-of-type {\n",
       "        vertical-align: middle;\n",
       "    }\n",
       "\n",
       "    .dataframe tbody tr th {\n",
       "        vertical-align: top;\n",
       "    }\n",
       "\n",
       "    .dataframe thead th {\n",
       "        text-align: right;\n",
       "    }\n",
       "</style>\n",
       "<table border=\"1\" class=\"dataframe\">\n",
       "  <thead>\n",
       "    <tr style=\"text-align: right;\">\n",
       "      <th></th>\n",
       "      <th>near_location</th>\n",
       "      <th>partner</th>\n",
       "      <th>promo_friends</th>\n",
       "      <th>phone</th>\n",
       "      <th>contract_period</th>\n",
       "      <th>group_visits</th>\n",
       "      <th>age</th>\n",
       "      <th>avg_additional_charges_total</th>\n",
       "      <th>month_to_end_contract</th>\n",
       "      <th>lifetime</th>\n",
       "      <th>avg_class_frecuency_total</th>\n",
       "      <th>avg_frecuency_current_month</th>\n",
       "      <th>churn</th>\n",
       "    </tr>\n",
       "    <tr>\n",
       "      <th>cluster</th>\n",
       "      <th></th>\n",
       "      <th></th>\n",
       "      <th></th>\n",
       "      <th></th>\n",
       "      <th></th>\n",
       "      <th></th>\n",
       "      <th></th>\n",
       "      <th></th>\n",
       "      <th></th>\n",
       "      <th></th>\n",
       "      <th></th>\n",
       "      <th></th>\n",
       "      <th></th>\n",
       "    </tr>\n",
       "  </thead>\n",
       "  <tbody>\n",
       "    <tr>\n",
       "      <th>0</th>\n",
       "      <td>0.812121</td>\n",
       "      <td>0.290909</td>\n",
       "      <td>0.060606</td>\n",
       "      <td>1.0</td>\n",
       "      <td>2.818182</td>\n",
       "      <td>0.418182</td>\n",
       "      <td>29.963636</td>\n",
       "      <td>151.221935</td>\n",
       "      <td>2.593939</td>\n",
       "      <td>4.793939</td>\n",
       "      <td>2.833838</td>\n",
       "      <td>2.808685</td>\n",
       "      <td>0.166667</td>\n",
       "    </tr>\n",
       "    <tr>\n",
       "      <th>1</th>\n",
       "      <td>0.868421</td>\n",
       "      <td>0.526316</td>\n",
       "      <td>0.355263</td>\n",
       "      <td>0.0</td>\n",
       "      <td>4.855263</td>\n",
       "      <td>0.447368</td>\n",
       "      <td>29.802632</td>\n",
       "      <td>140.406935</td>\n",
       "      <td>4.684211</td>\n",
       "      <td>4.355263</td>\n",
       "      <td>2.005772</td>\n",
       "      <td>1.876507</td>\n",
       "      <td>0.176471</td>\n",
       "    </tr>\n",
       "    <tr>\n",
       "      <th>2</th>\n",
       "      <td>0.903955</td>\n",
       "      <td>0.717514</td>\n",
       "      <td>0.440678</td>\n",
       "      <td>1.0</td>\n",
       "      <td>11.864407</td>\n",
       "      <td>0.519774</td>\n",
       "      <td>29.937853</td>\n",
       "      <td>165.132414</td>\n",
       "      <td>10.807910</td>\n",
       "      <td>4.740113</td>\n",
       "      <td>2.046111</td>\n",
       "      <td>2.025601</td>\n",
       "      <td>0.222222</td>\n",
       "    </tr>\n",
       "    <tr>\n",
       "      <th>3</th>\n",
       "      <td>0.939655</td>\n",
       "      <td>0.853448</td>\n",
       "      <td>1.000000</td>\n",
       "      <td>1.0</td>\n",
       "      <td>3.155172</td>\n",
       "      <td>0.405172</td>\n",
       "      <td>29.146552</td>\n",
       "      <td>146.967555</td>\n",
       "      <td>3.017241</td>\n",
       "      <td>3.767241</td>\n",
       "      <td>1.738941</td>\n",
       "      <td>1.682220</td>\n",
       "      <td>0.421053</td>\n",
       "    </tr>\n",
       "    <tr>\n",
       "      <th>4</th>\n",
       "      <td>0.669173</td>\n",
       "      <td>0.296992</td>\n",
       "      <td>0.022556</td>\n",
       "      <td>1.0</td>\n",
       "      <td>2.105263</td>\n",
       "      <td>0.259398</td>\n",
       "      <td>27.973684</td>\n",
       "      <td>132.496357</td>\n",
       "      <td>1.939850</td>\n",
       "      <td>2.214286</td>\n",
       "      <td>1.223602</td>\n",
       "      <td>0.955100</td>\n",
       "      <td>0.212766</td>\n",
       "    </tr>\n",
       "  </tbody>\n",
       "</table>\n",
       "</div>"
      ],
      "text/plain": [
       "         near_location   partner  promo_friends  phone  contract_period  \\\n",
       "cluster                                                                   \n",
       "0             0.812121  0.290909       0.060606    1.0         2.818182   \n",
       "1             0.868421  0.526316       0.355263    0.0         4.855263   \n",
       "2             0.903955  0.717514       0.440678    1.0        11.864407   \n",
       "3             0.939655  0.853448       1.000000    1.0         3.155172   \n",
       "4             0.669173  0.296992       0.022556    1.0         2.105263   \n",
       "\n",
       "         group_visits        age  avg_additional_charges_total  \\\n",
       "cluster                                                          \n",
       "0            0.418182  29.963636                    151.221935   \n",
       "1            0.447368  29.802632                    140.406935   \n",
       "2            0.519774  29.937853                    165.132414   \n",
       "3            0.405172  29.146552                    146.967555   \n",
       "4            0.259398  27.973684                    132.496357   \n",
       "\n",
       "         month_to_end_contract  lifetime  avg_class_frecuency_total  \\\n",
       "cluster                                                               \n",
       "0                     2.593939  4.793939                   2.833838   \n",
       "1                     4.684211  4.355263                   2.005772   \n",
       "2                    10.807910  4.740113                   2.046111   \n",
       "3                     3.017241  3.767241                   1.738941   \n",
       "4                     1.939850  2.214286                   1.223602   \n",
       "\n",
       "         avg_frecuency_current_month     churn  \n",
       "cluster                                         \n",
       "0                           2.808685  0.166667  \n",
       "1                           1.876507  0.176471  \n",
       "2                           2.025601  0.222222  \n",
       "3                           1.682220  0.421053  \n",
       "4                           0.955100  0.212766  "
      ]
     },
     "execution_count": 36,
     "metadata": {},
     "output_type": "execute_result"
    }
   ],
   "source": [
    "test_df_scaled.groupby('cluster').mean()"
   ]
  },
  {
   "cell_type": "markdown",
   "metadata": {},
   "source": [
    "## Distribuciones de características para los clústeres"
   ]
  },
  {
   "cell_type": "code",
   "execution_count": 37,
   "metadata": {},
   "outputs": [
    {
     "name": "stderr",
     "output_type": "stream",
     "text": [
      "/tmp/ipykernel_82/4246979985.py:1: SettingWithCopyWarning: \n",
      "A value is trying to be set on a copy of a slice from a DataFrame.\n",
      "Try using .loc[row_indexer,col_indexer] = value instead\n",
      "\n",
      "See the caveats in the documentation: https://pandas.pydata.org/pandas-docs/stable/user_guide/indexing.html#returning-a-view-versus-a-copy\n",
      "  test_df['rf_prediction'] = test_preds_logic\n"
     ]
    }
   ],
   "source": [
    "test_df['rf_prediction'] = test_preds_logic"
   ]
  },
  {
   "cell_type": "code",
   "execution_count": 38,
   "metadata": {},
   "outputs": [
    {
     "name": "stderr",
     "output_type": "stream",
     "text": [
      "/tmp/ipykernel_82/3173345344.py:1: SettingWithCopyWarning: \n",
      "A value is trying to be set on a copy of a slice from a DataFrame.\n",
      "Try using .loc[row_indexer,col_indexer] = value instead\n",
      "\n",
      "See the caveats in the documentation: https://pandas.pydata.org/pandas-docs/stable/user_guide/indexing.html#returning-a-view-versus-a-copy\n",
      "  test_df['group_prediction'] = pd.qcut(test_df['rf_prediction'], q=5, duplicates='drop')\n"
     ]
    },
    {
     "data": {
      "text/html": [
       "<div>\n",
       "<style scoped>\n",
       "    .dataframe tbody tr th:only-of-type {\n",
       "        vertical-align: middle;\n",
       "    }\n",
       "\n",
       "    .dataframe tbody tr th {\n",
       "        vertical-align: top;\n",
       "    }\n",
       "\n",
       "    .dataframe thead th {\n",
       "        text-align: right;\n",
       "    }\n",
       "</style>\n",
       "<table border=\"1\" class=\"dataframe\">\n",
       "  <thead>\n",
       "    <tr style=\"text-align: right;\">\n",
       "      <th></th>\n",
       "      <th>gender</th>\n",
       "      <th>near_location</th>\n",
       "      <th>partner</th>\n",
       "      <th>promo_friends</th>\n",
       "      <th>phone</th>\n",
       "      <th>contract_period</th>\n",
       "      <th>group_visits</th>\n",
       "      <th>age</th>\n",
       "      <th>avg_additional_charges_total</th>\n",
       "      <th>month_to_end_contract</th>\n",
       "      <th>lifetime</th>\n",
       "      <th>avg_class_frecuency_total</th>\n",
       "      <th>avg_frecuency_current_month</th>\n",
       "      <th>churn</th>\n",
       "      <th>rf_prediction</th>\n",
       "      <th>group_prediction</th>\n",
       "    </tr>\n",
       "  </thead>\n",
       "  <tbody>\n",
       "    <tr>\n",
       "      <th>1824</th>\n",
       "      <td>0</td>\n",
       "      <td>1</td>\n",
       "      <td>0</td>\n",
       "      <td>0</td>\n",
       "      <td>1</td>\n",
       "      <td>1</td>\n",
       "      <td>1</td>\n",
       "      <td>27</td>\n",
       "      <td>69.352917</td>\n",
       "      <td>1.0</td>\n",
       "      <td>4</td>\n",
       "      <td>2.103987</td>\n",
       "      <td>2.178061</td>\n",
       "      <td>0</td>\n",
       "      <td>0.030066</td>\n",
       "      <td>(0.0115, 0.135]</td>\n",
       "    </tr>\n",
       "    <tr>\n",
       "      <th>901</th>\n",
       "      <td>0</td>\n",
       "      <td>1</td>\n",
       "      <td>0</td>\n",
       "      <td>0</td>\n",
       "      <td>1</td>\n",
       "      <td>1</td>\n",
       "      <td>1</td>\n",
       "      <td>31</td>\n",
       "      <td>140.416346</td>\n",
       "      <td>1.0</td>\n",
       "      <td>3</td>\n",
       "      <td>0.835274</td>\n",
       "      <td>0.821356</td>\n",
       "      <td>0</td>\n",
       "      <td>0.152209</td>\n",
       "      <td>(0.135, 0.736]</td>\n",
       "    </tr>\n",
       "    <tr>\n",
       "      <th>3114</th>\n",
       "      <td>1</td>\n",
       "      <td>1</td>\n",
       "      <td>0</td>\n",
       "      <td>0</td>\n",
       "      <td>1</td>\n",
       "      <td>12</td>\n",
       "      <td>1</td>\n",
       "      <td>27</td>\n",
       "      <td>68.809762</td>\n",
       "      <td>5.0</td>\n",
       "      <td>5</td>\n",
       "      <td>3.735156</td>\n",
       "      <td>3.721445</td>\n",
       "      <td>0</td>\n",
       "      <td>0.000131</td>\n",
       "      <td>(-0.00099999999879, 0.000586]</td>\n",
       "    </tr>\n",
       "    <tr>\n",
       "      <th>3490</th>\n",
       "      <td>0</td>\n",
       "      <td>1</td>\n",
       "      <td>0</td>\n",
       "      <td>0</td>\n",
       "      <td>1</td>\n",
       "      <td>1</td>\n",
       "      <td>0</td>\n",
       "      <td>25</td>\n",
       "      <td>149.196716</td>\n",
       "      <td>1.0</td>\n",
       "      <td>0</td>\n",
       "      <td>2.152637</td>\n",
       "      <td>1.852379</td>\n",
       "      <td>1</td>\n",
       "      <td>0.945259</td>\n",
       "      <td>(0.736, 1.0]</td>\n",
       "    </tr>\n",
       "    <tr>\n",
       "      <th>179</th>\n",
       "      <td>1</td>\n",
       "      <td>1</td>\n",
       "      <td>0</td>\n",
       "      <td>0</td>\n",
       "      <td>1</td>\n",
       "      <td>1</td>\n",
       "      <td>0</td>\n",
       "      <td>31</td>\n",
       "      <td>83.267979</td>\n",
       "      <td>1.0</td>\n",
       "      <td>0</td>\n",
       "      <td>1.707727</td>\n",
       "      <td>1.653354</td>\n",
       "      <td>0</td>\n",
       "      <td>0.883652</td>\n",
       "      <td>(0.736, 1.0]</td>\n",
       "    </tr>\n",
       "  </tbody>\n",
       "</table>\n",
       "</div>"
      ],
      "text/plain": [
       "      gender  near_location  partner  promo_friends  phone  contract_period  \\\n",
       "1824       0              1        0              0      1                1   \n",
       "901        0              1        0              0      1                1   \n",
       "3114       1              1        0              0      1               12   \n",
       "3490       0              1        0              0      1                1   \n",
       "179        1              1        0              0      1                1   \n",
       "\n",
       "      group_visits  age  avg_additional_charges_total  month_to_end_contract  \\\n",
       "1824             1   27                     69.352917                    1.0   \n",
       "901              1   31                    140.416346                    1.0   \n",
       "3114             1   27                     68.809762                    5.0   \n",
       "3490             0   25                    149.196716                    1.0   \n",
       "179              0   31                     83.267979                    1.0   \n",
       "\n",
       "      lifetime  avg_class_frecuency_total  avg_frecuency_current_month  churn  \\\n",
       "1824         4                   2.103987                     2.178061      0   \n",
       "901          3                   0.835274                     0.821356      0   \n",
       "3114         5                   3.735156                     3.721445      0   \n",
       "3490         0                   2.152637                     1.852379      1   \n",
       "179          0                   1.707727                     1.653354      0   \n",
       "\n",
       "      rf_prediction               group_prediction  \n",
       "1824       0.030066                (0.0115, 0.135]  \n",
       "901        0.152209                 (0.135, 0.736]  \n",
       "3114       0.000131  (-0.00099999999879, 0.000586]  \n",
       "3490       0.945259                   (0.736, 1.0]  \n",
       "179        0.883652                   (0.736, 1.0]  "
      ]
     },
     "execution_count": 38,
     "metadata": {},
     "output_type": "execute_result"
    }
   ],
   "source": [
    "test_df['group_prediction'] = pd.qcut(test_df['rf_prediction'], q=5, duplicates='drop')\n",
    "test_df.head()"
   ]
  },
  {
   "cell_type": "code",
   "execution_count": 39,
   "metadata": {},
   "outputs": [
    {
     "data": {
      "image/png": "[encoded data removed]",
      "text/plain": [
       "<Figure size 800x400 with 1 Axes>"
      ]
     },
     "metadata": {},
     "output_type": "display_data"
    }
   ],
   "source": [
    "plt.figure(figsize=(8, 4))\n",
    "test_df.groupby('group_prediction')['churn'].mean().plot(kind='bar', ax=plt.gca())\n",
    "plt.show()"
   ]
  },
  {
   "cell_type": "markdown",
   "metadata": {},
   "source": [
    "## Tasa de cancelación para cada clúster"
   ]
  },
  {
   "cell_type": "code",
   "execution_count": 40,
   "metadata": {},
   "outputs": [
    {
     "data": {
      "text/plain": [
       "cluster\n",
       "0    0.166667\n",
       "1    0.176471\n",
       "2    0.222222\n",
       "3    0.421053\n",
       "4    0.212766\n",
       "Name: churn, dtype: float64"
      ]
     },
     "execution_count": 40,
     "metadata": {},
     "output_type": "execute_result"
    }
   ],
   "source": [
    "test_df_scaled.groupby('cluster')['churn'].mean()"
   ]
  },
  {
   "cell_type": "markdown",
   "metadata": {},
   "source": [
    "# Conclusiones"
   ]
  },
  {
   "cell_type": "markdown",
   "metadata": {},
   "source": [
    "- Se deben implementar estrategias para el primer y segundo cluster ya que son los que tienen el pocetaje de cancelacion mas alto.\n",
    "- Para el cluster dos que son refieridos por amigos, se puede genenrar un mayor incentivo con este programa para motivarlos a aumentar la cantidad de visitas, generando descuentos adicionales de los otros servicios del gimnasio, ya que son los que mas gastan, podria ser unas tiqueteras especiales. \n",
    "- Se podria realizar descuentos especiales a las las personas menores de 30 años, con planes mas economicos y con flexibilidad con periodos de menos de un año.\n",
    "- Generar planes de fidelizacion para aquellos que tienen mas de 6 meses asistiendo mas de dos veces por semanas, con descuento especiales. \n"
   ]
  }
 ],
 "metadata": {
  "ExecuteTimeLog": [
   {
    "duration": 15,
    "start_time": "2024-07-22T23:31:48.120Z"
   },
   {
    "duration": 3,
    "start_time": "2024-07-22T23:32:50.837Z"
   },
   {
    "duration": 4974,
    "start_time": "2024-07-22T23:33:07.173Z"
   },
   {
    "duration": 24,
    "start_time": "2024-07-22T23:33:51.819Z"
   },
   {
    "duration": 29,
    "start_time": "2024-07-22T23:33:57.477Z"
   },
   {
    "duration": 24,
    "start_time": "2024-07-22T23:39:31.165Z"
   },
   {
    "duration": 57,
    "start_time": "2024-07-22T23:44:24.404Z"
   },
   {
    "duration": 207,
    "start_time": "2024-07-22T23:45:33.917Z"
   },
   {
    "duration": 7,
    "start_time": "2024-07-22T23:45:40.894Z"
   },
   {
    "duration": 9,
    "start_time": "2024-07-22T23:47:21.350Z"
   },
   {
    "duration": 20,
    "start_time": "2024-07-22T23:56:19.722Z"
   },
   {
    "duration": 12,
    "start_time": "2024-07-22T23:57:05.858Z"
   },
   {
    "duration": 20,
    "start_time": "2024-07-22T23:59:59.850Z"
   },
   {
    "duration": 875,
    "start_time": "2024-07-23T00:04:22.066Z"
   },
   {
    "duration": 214,
    "start_time": "2024-07-23T00:04:30.405Z"
   },
   {
    "duration": 5,
    "start_time": "2024-07-23T00:10:25.205Z"
   },
   {
    "duration": 61,
    "start_time": "2024-07-23T00:10:26.792Z"
   },
   {
    "duration": 7,
    "start_time": "2024-07-23T00:10:27.245Z"
   },
   {
    "duration": 9,
    "start_time": "2024-07-23T00:10:27.800Z"
   },
   {
    "duration": 12,
    "start_time": "2024-07-23T00:10:28.328Z"
   },
   {
    "duration": 21,
    "start_time": "2024-07-23T00:10:34.367Z"
   },
   {
    "duration": 219,
    "start_time": "2024-07-23T00:10:39.575Z"
   },
   {
    "duration": 426,
    "start_time": "2024-07-23T00:13:50.046Z"
   },
   {
    "duration": 670,
    "start_time": "2024-07-23T00:14:44.977Z"
   },
   {
    "duration": 220,
    "start_time": "2024-07-23T00:15:58.349Z"
   },
   {
    "duration": 376,
    "start_time": "2024-07-23T00:16:28.364Z"
   },
   {
    "duration": 341,
    "start_time": "2024-07-23T00:29:46.945Z"
   },
   {
    "duration": 7,
    "start_time": "2024-07-23T00:29:57.407Z"
   },
   {
    "duration": 26,
    "start_time": "2024-07-23T00:30:56.263Z"
   },
   {
    "duration": 5,
    "start_time": "2024-07-23T00:31:08.713Z"
   },
   {
    "duration": 50,
    "start_time": "2024-07-23T00:39:33.082Z"
   },
   {
    "duration": 474,
    "start_time": "2024-07-23T00:39:50.054Z"
   },
   {
    "duration": 104,
    "start_time": "2024-07-23T00:40:13.434Z"
   },
   {
    "duration": 5,
    "start_time": "2024-07-23T00:55:35.160Z"
   },
   {
    "duration": 102,
    "start_time": "2024-07-23T00:55:39.035Z"
   },
   {
    "duration": 395,
    "start_time": "2024-07-23T00:58:40.149Z"
   },
   {
    "duration": 18,
    "start_time": "2024-07-23T01:03:29.948Z"
   },
   {
    "duration": 4,
    "start_time": "2024-07-23T01:07:58.285Z"
   },
   {
    "duration": 4,
    "start_time": "2024-07-23T01:08:18.150Z"
   },
   {
    "duration": 10,
    "start_time": "2024-07-23T01:09:58.051Z"
   },
   {
    "duration": 38,
    "start_time": "2024-07-23T01:10:32.189Z"
   },
   {
    "duration": 1385,
    "start_time": "2024-07-23T01:10:56.184Z"
   },
   {
    "duration": 16,
    "start_time": "2024-07-23T01:10:57.572Z"
   },
   {
    "duration": 38,
    "start_time": "2024-07-23T01:10:57.591Z"
   },
   {
    "duration": 4,
    "start_time": "2024-07-23T01:10:57.633Z"
   },
   {
    "duration": 82,
    "start_time": "2024-07-23T01:10:57.641Z"
   },
   {
    "duration": 8,
    "start_time": "2024-07-23T01:10:57.725Z"
   },
   {
    "duration": 9,
    "start_time": "2024-07-23T01:10:57.736Z"
   },
   {
    "duration": 13,
    "start_time": "2024-07-23T01:10:57.749Z"
   },
   {
    "duration": 65,
    "start_time": "2024-07-23T01:10:57.766Z"
   },
   {
    "duration": 233,
    "start_time": "2024-07-23T01:10:57.837Z"
   },
   {
    "duration": 491,
    "start_time": "2024-07-23T01:10:58.073Z"
   },
   {
    "duration": 396,
    "start_time": "2024-07-23T01:10:58.567Z"
   },
   {
    "duration": 643,
    "start_time": "2024-07-23T01:10:58.966Z"
   },
   {
    "duration": 243,
    "start_time": "2024-07-23T01:10:59.612Z"
   },
   {
    "duration": 24,
    "start_time": "2024-07-23T01:10:59.858Z"
   },
   {
    "duration": 585,
    "start_time": "2024-07-23T01:10:59.885Z"
   },
   {
    "duration": 0,
    "start_time": "2024-07-23T01:11:00.473Z"
   },
   {
    "duration": 0,
    "start_time": "2024-07-23T01:11:00.475Z"
   },
   {
    "duration": 0,
    "start_time": "2024-07-23T01:11:00.477Z"
   },
   {
    "duration": 0,
    "start_time": "2024-07-23T01:11:00.478Z"
   },
   {
    "duration": 0,
    "start_time": "2024-07-23T01:11:00.480Z"
   },
   {
    "duration": 1373,
    "start_time": "2024-07-23T01:11:39.518Z"
   },
   {
    "duration": 5,
    "start_time": "2024-07-23T01:12:55.546Z"
   },
   {
    "duration": 4,
    "start_time": "2024-07-23T01:13:01.854Z"
   },
   {
    "duration": 24,
    "start_time": "2024-07-23T01:13:18.886Z"
   },
   {
    "duration": 9,
    "start_time": "2024-07-23T01:13:34.090Z"
   },
   {
    "duration": 166,
    "start_time": "2024-07-23T01:13:50.879Z"
   },
   {
    "duration": 9,
    "start_time": "2024-07-23T01:14:08.060Z"
   },
   {
    "duration": 8,
    "start_time": "2024-07-23T01:14:42.553Z"
   },
   {
    "duration": 496,
    "start_time": "2024-07-23T01:14:44.895Z"
   },
   {
    "duration": 6,
    "start_time": "2024-07-23T01:14:45.607Z"
   },
   {
    "duration": 108,
    "start_time": "2024-07-23T01:14:46.288Z"
   },
   {
    "duration": 333,
    "start_time": "2024-07-23T01:14:47.271Z"
   },
   {
    "duration": 21,
    "start_time": "2024-07-23T01:14:48.239Z"
   },
   {
    "duration": 4,
    "start_time": "2024-07-23T01:17:01.733Z"
   },
   {
    "duration": 214,
    "start_time": "2024-07-23T01:17:06.921Z"
   },
   {
    "duration": 5,
    "start_time": "2024-07-23T01:17:10.599Z"
   },
   {
    "duration": 470,
    "start_time": "2024-07-23T01:18:13.846Z"
   },
   {
    "duration": 7,
    "start_time": "2024-07-23T01:19:02.524Z"
   },
   {
    "duration": 150,
    "start_time": "2024-07-23T01:19:54.386Z"
   },
   {
    "duration": 7,
    "start_time": "2024-07-23T01:20:28.218Z"
   },
   {
    "duration": 100,
    "start_time": "2024-07-23T01:21:06.035Z"
   },
   {
    "duration": 298,
    "start_time": "2024-07-23T01:21:40.395Z"
   },
   {
    "duration": 20,
    "start_time": "2024-07-23T01:23:09.616Z"
   },
   {
    "duration": 1421,
    "start_time": "2024-07-23T01:24:25.432Z"
   },
   {
    "duration": 16,
    "start_time": "2024-07-23T01:24:26.857Z"
   },
   {
    "duration": 21,
    "start_time": "2024-07-23T01:24:26.876Z"
   },
   {
    "duration": 23,
    "start_time": "2024-07-23T01:24:26.901Z"
   },
   {
    "duration": 61,
    "start_time": "2024-07-23T01:24:26.926Z"
   },
   {
    "duration": 36,
    "start_time": "2024-07-23T01:24:26.990Z"
   },
   {
    "duration": 13,
    "start_time": "2024-07-23T01:24:27.029Z"
   },
   {
    "duration": 13,
    "start_time": "2024-07-23T01:24:27.046Z"
   },
   {
    "duration": 61,
    "start_time": "2024-07-23T01:24:27.063Z"
   },
   {
    "duration": 249,
    "start_time": "2024-07-23T01:24:27.130Z"
   },
   {
    "duration": 480,
    "start_time": "2024-07-23T01:24:27.386Z"
   },
   {
    "duration": 397,
    "start_time": "2024-07-23T01:24:27.869Z"
   },
   {
    "duration": 640,
    "start_time": "2024-07-23T01:24:28.269Z"
   },
   {
    "duration": 223,
    "start_time": "2024-07-23T01:24:28.912Z"
   },
   {
    "duration": 9,
    "start_time": "2024-07-23T01:24:29.137Z"
   },
   {
    "duration": 26,
    "start_time": "2024-07-23T01:24:29.149Z"
   },
   {
    "duration": 254,
    "start_time": "2024-07-23T01:24:29.178Z"
   },
   {
    "duration": 88,
    "start_time": "2024-07-23T01:24:29.435Z"
   },
   {
    "duration": 5,
    "start_time": "2024-07-23T01:24:29.525Z"
   },
   {
    "duration": 615,
    "start_time": "2024-07-23T01:24:29.533Z"
   },
   {
    "duration": 0,
    "start_time": "2024-07-23T01:24:30.154Z"
   },
   {
    "duration": 0,
    "start_time": "2024-07-23T01:24:30.156Z"
   },
   {
    "duration": 0,
    "start_time": "2024-07-23T01:24:30.158Z"
   },
   {
    "duration": 0,
    "start_time": "2024-07-23T01:24:30.160Z"
   },
   {
    "duration": 0,
    "start_time": "2024-07-23T01:24:30.162Z"
   },
   {
    "duration": 0,
    "start_time": "2024-07-23T01:24:30.164Z"
   },
   {
    "duration": 663,
    "start_time": "2024-07-23T01:25:20.619Z"
   },
   {
    "duration": 140,
    "start_time": "2024-07-23T01:25:34.940Z"
   },
   {
    "duration": 194,
    "start_time": "2024-07-23T01:25:42.949Z"
   },
   {
    "duration": 27,
    "start_time": "2024-07-23T01:26:24.646Z"
   },
   {
    "duration": 31,
    "start_time": "2024-07-23T01:26:37.099Z"
   },
   {
    "duration": 470,
    "start_time": "2024-07-23T01:26:38.391Z"
   },
   {
    "duration": 191,
    "start_time": "2024-07-23T01:26:39.145Z"
   },
   {
    "duration": 35,
    "start_time": "2024-07-23T01:26:45.040Z"
   },
   {
    "duration": 110,
    "start_time": "2024-07-23T01:26:49.298Z"
   },
   {
    "duration": 101,
    "start_time": "2024-07-23T01:27:17.781Z"
   },
   {
    "duration": 325,
    "start_time": "2024-07-23T01:27:21.320Z"
   },
   {
    "duration": 16,
    "start_time": "2024-07-23T01:27:24.780Z"
   },
   {
    "duration": 4,
    "start_time": "2024-07-23T01:27:35.102Z"
   },
   {
    "duration": 100,
    "start_time": "2024-07-23T01:27:37.438Z"
   },
   {
    "duration": 16,
    "start_time": "2024-07-23T01:27:40.284Z"
   },
   {
    "duration": 1411,
    "start_time": "2024-07-23T01:27:52.077Z"
   },
   {
    "duration": 16,
    "start_time": "2024-07-23T01:27:53.493Z"
   },
   {
    "duration": 27,
    "start_time": "2024-07-23T01:27:53.512Z"
   },
   {
    "duration": 5,
    "start_time": "2024-07-23T01:27:53.542Z"
   },
   {
    "duration": 90,
    "start_time": "2024-07-23T01:27:53.553Z"
   },
   {
    "duration": 7,
    "start_time": "2024-07-23T01:27:53.645Z"
   },
   {
    "duration": 10,
    "start_time": "2024-07-23T01:27:53.655Z"
   },
   {
    "duration": 12,
    "start_time": "2024-07-23T01:27:53.667Z"
   },
   {
    "duration": 58,
    "start_time": "2024-07-23T01:27:53.682Z"
   },
   {
    "duration": 244,
    "start_time": "2024-07-23T01:27:53.743Z"
   },
   {
    "duration": 486,
    "start_time": "2024-07-23T01:27:53.990Z"
   },
   {
    "duration": 396,
    "start_time": "2024-07-23T01:27:54.479Z"
   },
   {
    "duration": 651,
    "start_time": "2024-07-23T01:27:54.877Z"
   },
   {
    "duration": 233,
    "start_time": "2024-07-23T01:27:55.534Z"
   },
   {
    "duration": 10,
    "start_time": "2024-07-23T01:27:55.770Z"
   },
   {
    "duration": 40,
    "start_time": "2024-07-23T01:27:55.783Z"
   },
   {
    "duration": 217,
    "start_time": "2024-07-23T01:27:55.825Z"
   },
   {
    "duration": 83,
    "start_time": "2024-07-23T01:27:56.044Z"
   },
   {
    "duration": 8,
    "start_time": "2024-07-23T01:27:56.133Z"
   },
   {
    "duration": 251,
    "start_time": "2024-07-23T01:27:56.147Z"
   },
   {
    "duration": 24,
    "start_time": "2024-07-23T01:27:56.401Z"
   },
   {
    "duration": 33,
    "start_time": "2024-07-23T01:27:56.428Z"
   },
   {
    "duration": 488,
    "start_time": "2024-07-23T01:27:56.464Z"
   },
   {
    "duration": 119,
    "start_time": "2024-07-23T01:27:56.955Z"
   },
   {
    "duration": 340,
    "start_time": "2024-07-23T01:27:57.079Z"
   },
   {
    "duration": 17,
    "start_time": "2024-07-23T01:27:57.421Z"
   },
   {
    "duration": 458,
    "start_time": "2024-07-23T01:28:33.667Z"
   },
   {
    "duration": 6,
    "start_time": "2024-07-23T01:28:53.627Z"
   },
   {
    "duration": 16,
    "start_time": "2024-07-23T01:48:26.077Z"
   },
   {
    "duration": 4,
    "start_time": "2024-07-23T01:50:34.636Z"
   },
   {
    "duration": 440,
    "start_time": "2024-07-23T01:51:49.923Z"
   },
   {
    "duration": 28,
    "start_time": "2024-07-23T01:52:09.831Z"
   },
   {
    "duration": 23,
    "start_time": "2024-07-23T01:52:24.756Z"
   },
   {
    "duration": 23,
    "start_time": "2024-07-23T01:52:39.309Z"
   },
   {
    "duration": 25,
    "start_time": "2024-07-23T01:53:12.747Z"
   },
   {
    "duration": 4,
    "start_time": "2024-07-23T01:53:49.206Z"
   },
   {
    "duration": 486,
    "start_time": "2024-07-23T01:54:53.762Z"
   },
   {
    "duration": 30,
    "start_time": "2024-07-23T01:56:20.461Z"
   },
   {
    "duration": 1524,
    "start_time": "2024-07-23T01:57:53.104Z"
   },
   {
    "duration": 36,
    "start_time": "2024-07-23T01:57:54.636Z"
   },
   {
    "duration": 25,
    "start_time": "2024-07-23T01:57:54.679Z"
   },
   {
    "duration": 6,
    "start_time": "2024-07-23T01:57:54.709Z"
   },
   {
    "duration": 66,
    "start_time": "2024-07-23T01:57:54.719Z"
   },
   {
    "duration": 35,
    "start_time": "2024-07-23T01:57:54.788Z"
   },
   {
    "duration": 11,
    "start_time": "2024-07-23T01:57:54.827Z"
   },
   {
    "duration": 14,
    "start_time": "2024-07-23T01:57:54.841Z"
   },
   {
    "duration": 23,
    "start_time": "2024-07-23T01:57:54.858Z"
   },
   {
    "duration": 243,
    "start_time": "2024-07-23T01:57:54.927Z"
   },
   {
    "duration": 544,
    "start_time": "2024-07-23T01:57:55.173Z"
   },
   {
    "duration": 462,
    "start_time": "2024-07-23T01:57:55.724Z"
   },
   {
    "duration": 675,
    "start_time": "2024-07-23T01:57:56.189Z"
   },
   {
    "duration": 256,
    "start_time": "2024-07-23T01:57:56.867Z"
   },
   {
    "duration": 9,
    "start_time": "2024-07-23T01:57:57.133Z"
   },
   {
    "duration": 26,
    "start_time": "2024-07-23T01:57:57.152Z"
   },
   {
    "duration": 663,
    "start_time": "2024-07-23T01:57:57.181Z"
   },
   {
    "duration": 82,
    "start_time": "2024-07-23T01:57:57.846Z"
   },
   {
    "duration": 7,
    "start_time": "2024-07-23T01:57:57.932Z"
   },
   {
    "duration": 244,
    "start_time": "2024-07-23T01:57:57.942Z"
   },
   {
    "duration": 379,
    "start_time": "2024-07-23T01:57:58.189Z"
   },
   {
    "duration": 19,
    "start_time": "2024-07-23T01:57:58.572Z"
   },
   {
    "duration": 60,
    "start_time": "2024-07-23T01:57:58.594Z"
   },
   {
    "duration": 481,
    "start_time": "2024-07-23T01:57:58.661Z"
   },
   {
    "duration": 140,
    "start_time": "2024-07-23T01:57:59.145Z"
   },
   {
    "duration": 449,
    "start_time": "2024-07-23T01:57:59.288Z"
   },
   {
    "duration": 22,
    "start_time": "2024-07-23T01:57:59.741Z"
   },
   {
    "duration": 21,
    "start_time": "2024-07-23T01:57:59.771Z"
   },
   {
    "duration": 33,
    "start_time": "2024-07-23T01:57:59.796Z"
   },
   {
    "duration": 532,
    "start_time": "2024-07-23T01:57:59.833Z"
   },
   {
    "duration": 121598,
    "start_time": "2024-07-23T01:58:00.369Z"
   },
   {
    "duration": 531,
    "start_time": "2024-07-23T02:14:56.894Z"
   },
   {
    "duration": 3,
    "start_time": "2024-07-23T02:17:18.316Z"
   },
   {
    "duration": 5,
    "start_time": "2024-07-23T02:19:43.800Z"
   },
   {
    "duration": 9,
    "start_time": "2024-07-23T02:20:20.214Z"
   },
   {
    "duration": 169,
    "start_time": "2024-07-23T02:21:18.336Z"
   },
   {
    "duration": 1317,
    "start_time": "2024-07-23T02:22:41.471Z"
   },
   {
    "duration": 28,
    "start_time": "2024-07-23T02:22:49.477Z"
   },
   {
    "duration": 5,
    "start_time": "2024-07-23T02:25:31.087Z"
   },
   {
    "duration": 31,
    "start_time": "2024-07-23T02:28:18.734Z"
   },
   {
    "duration": 272,
    "start_time": "2024-07-23T02:28:39.720Z"
   },
   {
    "duration": 272,
    "start_time": "2024-07-23T02:28:46.850Z"
   },
   {
    "duration": 9,
    "start_time": "2024-07-23T02:29:48.665Z"
   },
   {
    "duration": 1641,
    "start_time": "2024-07-23T02:40:05.272Z"
   },
   {
    "duration": 20,
    "start_time": "2024-07-23T02:40:06.916Z"
   },
   {
    "duration": 22,
    "start_time": "2024-07-23T02:40:06.939Z"
   },
   {
    "duration": 4,
    "start_time": "2024-07-23T02:40:06.964Z"
   },
   {
    "duration": 93,
    "start_time": "2024-07-23T02:40:06.973Z"
   },
   {
    "duration": 8,
    "start_time": "2024-07-23T02:40:07.069Z"
   },
   {
    "duration": 11,
    "start_time": "2024-07-23T02:40:07.080Z"
   },
   {
    "duration": 36,
    "start_time": "2024-07-23T02:40:07.093Z"
   },
   {
    "duration": 34,
    "start_time": "2024-07-23T02:40:07.131Z"
   },
   {
    "duration": 331,
    "start_time": "2024-07-23T02:40:07.168Z"
   },
   {
    "duration": 665,
    "start_time": "2024-07-23T02:40:07.502Z"
   },
   {
    "duration": 546,
    "start_time": "2024-07-23T02:40:08.170Z"
   },
   {
    "duration": 761,
    "start_time": "2024-07-23T02:40:08.719Z"
   },
   {
    "duration": 298,
    "start_time": "2024-07-23T02:40:09.488Z"
   },
   {
    "duration": 12,
    "start_time": "2024-07-23T02:40:09.791Z"
   },
   {
    "duration": 53,
    "start_time": "2024-07-23T02:40:09.809Z"
   },
   {
    "duration": 378,
    "start_time": "2024-07-23T02:40:09.865Z"
   },
   {
    "duration": 23,
    "start_time": "2024-07-23T02:40:10.250Z"
   },
   {
    "duration": 39,
    "start_time": "2024-07-23T02:40:10.284Z"
   },
   {
    "duration": 241,
    "start_time": "2024-07-23T02:40:10.329Z"
   },
   {
    "duration": 383,
    "start_time": "2024-07-23T02:40:10.579Z"
   },
   {
    "duration": 23,
    "start_time": "2024-07-23T02:40:10.965Z"
   },
   {
    "duration": 61,
    "start_time": "2024-07-23T02:40:10.993Z"
   },
   {
    "duration": 608,
    "start_time": "2024-07-23T02:40:11.058Z"
   },
   {
    "duration": 126,
    "start_time": "2024-07-23T02:40:11.670Z"
   },
   {
    "duration": 523,
    "start_time": "2024-07-23T02:40:11.800Z"
   },
   {
    "duration": 18,
    "start_time": "2024-07-23T02:40:12.326Z"
   },
   {
    "duration": 17,
    "start_time": "2024-07-23T02:40:12.347Z"
   },
   {
    "duration": 3,
    "start_time": "2024-07-23T02:40:12.367Z"
   },
   {
    "duration": 537,
    "start_time": "2024-07-23T02:40:12.373Z"
   },
   {
    "duration": 2590,
    "start_time": "2024-07-24T23:58:01.285Z"
   },
   {
    "duration": 24,
    "start_time": "2024-07-24T23:58:03.929Z"
   },
   {
    "duration": 78,
    "start_time": "2024-07-24T23:58:03.957Z"
   },
   {
    "duration": 5,
    "start_time": "2024-07-24T23:58:04.038Z"
   },
   {
    "duration": 118,
    "start_time": "2024-07-24T23:58:04.049Z"
   },
   {
    "duration": 61,
    "start_time": "2024-07-24T23:58:04.169Z"
   },
   {
    "duration": 10,
    "start_time": "2024-07-24T23:58:04.234Z"
   },
   {
    "duration": 83,
    "start_time": "2024-07-24T23:58:04.248Z"
   },
   {
    "duration": 24,
    "start_time": "2024-07-24T23:58:04.334Z"
   },
   {
    "duration": 580,
    "start_time": "2024-07-24T23:58:04.362Z"
   },
   {
    "duration": 1001,
    "start_time": "2024-07-24T23:58:04.946Z"
   },
   {
    "duration": 792,
    "start_time": "2024-07-24T23:58:05.950Z"
   },
   {
    "duration": 1180,
    "start_time": "2024-07-24T23:58:06.745Z"
   },
   {
    "duration": 511,
    "start_time": "2024-07-24T23:58:07.937Z"
   },
   {
    "duration": 8,
    "start_time": "2024-07-24T23:58:08.452Z"
   },
   {
    "duration": 96,
    "start_time": "2024-07-24T23:58:08.463Z"
   },
   {
    "duration": 564,
    "start_time": "2024-07-24T23:58:08.562Z"
   },
   {
    "duration": 13,
    "start_time": "2024-07-24T23:58:09.129Z"
   },
   {
    "duration": 86,
    "start_time": "2024-07-24T23:58:09.146Z"
   },
   {
    "duration": 307,
    "start_time": "2024-07-24T23:58:09.236Z"
   },
   {
    "duration": 698,
    "start_time": "2024-07-24T23:58:09.546Z"
   },
   {
    "duration": 78,
    "start_time": "2024-07-24T23:58:10.248Z"
   },
   {
    "duration": 41,
    "start_time": "2024-07-24T23:58:10.329Z"
   },
   {
    "duration": 946,
    "start_time": "2024-07-24T23:58:10.426Z"
   },
   {
    "duration": 215,
    "start_time": "2024-07-24T23:58:11.425Z"
   },
   {
    "duration": 813,
    "start_time": "2024-07-24T23:58:11.643Z"
   },
   {
    "duration": 73,
    "start_time": "2024-07-24T23:58:12.460Z"
   },
   {
    "duration": 20,
    "start_time": "2024-07-24T23:58:12.536Z"
   },
   {
    "duration": 68,
    "start_time": "2024-07-24T23:58:12.559Z"
   },
   {
    "duration": 994,
    "start_time": "2024-07-24T23:58:12.631Z"
   },
   {
    "duration": 233414,
    "start_time": "2024-07-24T23:58:13.629Z"
   },
   {
    "duration": 600,
    "start_time": "2024-07-25T00:02:07.046Z"
   },
   {
    "duration": 78,
    "start_time": "2024-07-25T00:02:07.649Z"
   },
   {
    "duration": 11,
    "start_time": "2024-07-25T00:02:07.730Z"
   },
   {
    "duration": 482,
    "start_time": "2024-07-25T00:02:07.744Z"
   },
   {
    "duration": 24,
    "start_time": "2024-07-25T00:02:08.230Z"
   },
   {
    "duration": 68,
    "start_time": "2024-07-25T00:02:08.258Z"
   },
   {
    "duration": 33,
    "start_time": "2024-07-25T00:02:08.329Z"
   },
   {
    "duration": 476,
    "start_time": "2024-07-25T00:02:08.365Z"
   },
   {
    "duration": 10,
    "start_time": "2024-07-25T00:02:08.847Z"
   }
  ],
  "kernelspec": {
   "display_name": "Python 3 (ipykernel)",
   "language": "python",
   "name": "python3"
  },
  "language_info": {
   "codemirror_mode": {
    "name": "ipython",
    "version": 3
   },
   "file_extension": ".py",
   "mimetype": "text/x-python",
   "name": "python",
   "nbconvert_exporter": "python",
   "pygments_lexer": "ipython3",
   "version": "3.9.19"
  },
  "toc": {
   "base_numbering": 1,
   "nav_menu": {},
   "number_sections": true,
   "sideBar": true,
   "skip_h1_title": false,
   "title_cell": "Table of Contents",
   "title_sidebar": "Contents",
   "toc_cell": true,
   "toc_position": {
    "height": "calc(100% - 180px)",
    "left": "10px",
    "top": "150px",
    "width": "214.188px"
   },
   "toc_section_display": true,
   "toc_window_display": false
  }
 },
 "nbformat": 4,
 "nbformat_minor": 2
}
